{
  "nbformat": 4,
  "nbformat_minor": 0,
  "metadata": {
    "colab": {
      "name": "tf-agent_DQN_CartPole.ipynb",
      "provenance": [],
      "collapsed_sections": [],
      "toc_visible": true,
      "include_colab_link": true
    },
    "kernelspec": {
      "name": "python3",
      "display_name": "Python 3"
    }
  },
  "cells": [
    {
      "cell_type": "markdown",
      "metadata": {
        "id": "view-in-github",
        "colab_type": "text"
      },
      "source": [
        "<a href=\"https://colab.research.google.com/github/GabColombo/reinforcement/blob/master/tf_agent_DQN_CartPole.ipynb\" target=\"_parent\"><img src=\"https://colab.research.google.com/assets/colab-badge.svg\" alt=\"Open In Colab\"/></a>"
      ]
    },
    {
      "cell_type": "markdown",
      "metadata": {
        "id": "spTdFOiaYfJq",
        "colab_type": "text"
      },
      "source": [
        "## Instalando as bibliotecas necessárias"
      ]
    },
    {
      "cell_type": "code",
      "metadata": {
        "id": "nfFUEIZyXUyA",
        "colab_type": "code",
        "outputId": "a62d22c5-c2bb-413b-8f51-f95eb79bdd2b",
        "colab": {
          "base_uri": "https://localhost:8080/",
          "height": 1000
        }
      },
      "source": [
        "!sudo apt-get install -y xvfb ffmpeg\n",
        "!pip install 'gym==0.10.11'\n",
        "!pip install 'imageio==2.4.0'\n",
        "!pip install PILLOW\n",
        "!pip install 'pyglet==1.3.2'\n",
        "!pip install pyvirtualdisplay\n",
        "!pip install --upgrade tensorflow-probability\n",
        "!pip install tf-agents\n",
        "\n",
        "try:\n",
        "  %tensorflow_version 2.x\n",
        "except:\n",
        "  pass"
      ],
      "execution_count": 0,
      "outputs": [
        {
          "output_type": "stream",
          "text": [
            "Reading package lists... Done\n",
            "Building dependency tree       \n",
            "Reading state information... Done\n",
            "ffmpeg is already the newest version (7:3.4.6-0ubuntu0.18.04.1).\n",
            "The following package was automatically installed and is no longer required:\n",
            "  libnvidia-common-430\n",
            "Use 'sudo apt autoremove' to remove it.\n",
            "The following NEW packages will be installed:\n",
            "  xvfb\n",
            "0 upgraded, 1 newly installed, 0 to remove and 25 not upgraded.\n",
            "Need to get 783 kB of archives.\n",
            "After this operation, 2,266 kB of additional disk space will be used.\n",
            "Get:1 http://archive.ubuntu.com/ubuntu bionic-updates/universe amd64 xvfb amd64 2:1.19.6-1ubuntu4.3 [783 kB]\n",
            "Fetched 783 kB in 1s (599 kB/s)\n",
            "debconf: unable to initialize frontend: Dialog\n",
            "debconf: (No usable dialog-like program is installed, so the dialog based frontend cannot be used. at /usr/share/perl5/Debconf/FrontEnd/Dialog.pm line 76, <> line 1.)\n",
            "debconf: falling back to frontend: Readline\n",
            "debconf: unable to initialize frontend: Readline\n",
            "debconf: (This frontend requires a controlling tty.)\n",
            "debconf: falling back to frontend: Teletype\n",
            "dpkg-preconfigure: unable to re-open stdin: \n",
            "Selecting previously unselected package xvfb.\n",
            "(Reading database ... 134443 files and directories currently installed.)\n",
            "Preparing to unpack .../xvfb_2%3a1.19.6-1ubuntu4.3_amd64.deb ...\n",
            "Unpacking xvfb (2:1.19.6-1ubuntu4.3) ...\n",
            "Setting up xvfb (2:1.19.6-1ubuntu4.3) ...\n",
            "Processing triggers for man-db (2.8.3-2ubuntu0.1) ...\n",
            "Collecting gym==0.10.11\n",
            "\u001b[?25l  Downloading https://files.pythonhosted.org/packages/87/04/70d4901b7105082c9742acd64728342f6da7cd471572fd0660a73f9cfe27/gym-0.10.11.tar.gz (1.5MB)\n",
            "\u001b[K     |████████████████████████████████| 1.5MB 4.9MB/s \n",
            "\u001b[?25hRequirement already satisfied: scipy in /usr/local/lib/python3.6/dist-packages (from gym==0.10.11) (1.4.1)\n",
            "Requirement already satisfied: numpy>=1.10.4 in /usr/local/lib/python3.6/dist-packages (from gym==0.10.11) (1.17.5)\n",
            "Requirement already satisfied: requests>=2.0 in /usr/local/lib/python3.6/dist-packages (from gym==0.10.11) (2.21.0)\n",
            "Requirement already satisfied: six in /usr/local/lib/python3.6/dist-packages (from gym==0.10.11) (1.12.0)\n",
            "Requirement already satisfied: pyglet>=1.2.0 in /usr/local/lib/python3.6/dist-packages (from gym==0.10.11) (1.4.10)\n",
            "Requirement already satisfied: urllib3<1.25,>=1.21.1 in /usr/local/lib/python3.6/dist-packages (from requests>=2.0->gym==0.10.11) (1.24.3)\n",
            "Requirement already satisfied: certifi>=2017.4.17 in /usr/local/lib/python3.6/dist-packages (from requests>=2.0->gym==0.10.11) (2019.11.28)\n",
            "Requirement already satisfied: idna<2.9,>=2.5 in /usr/local/lib/python3.6/dist-packages (from requests>=2.0->gym==0.10.11) (2.8)\n",
            "Requirement already satisfied: chardet<3.1.0,>=3.0.2 in /usr/local/lib/python3.6/dist-packages (from requests>=2.0->gym==0.10.11) (3.0.4)\n",
            "Requirement already satisfied: future in /usr/local/lib/python3.6/dist-packages (from pyglet>=1.2.0->gym==0.10.11) (0.16.0)\n",
            "Building wheels for collected packages: gym\n",
            "  Building wheel for gym (setup.py) ... \u001b[?25l\u001b[?25hdone\n",
            "  Created wheel for gym: filename=gym-0.10.11-cp36-none-any.whl size=1588313 sha256=945ded15c629733fbdb5f3cb43e037f24997373e8176d7d5a57661ad18d96b01\n",
            "  Stored in directory: /root/.cache/pip/wheels/7b/eb/1f/22c4124f3c64943aa0646daf4612b1c1f00f27d89b81304ebd\n",
            "Successfully built gym\n",
            "Installing collected packages: gym\n",
            "  Found existing installation: gym 0.15.6\n",
            "    Uninstalling gym-0.15.6:\n",
            "      Successfully uninstalled gym-0.15.6\n",
            "Successfully installed gym-0.10.11\n",
            "Collecting imageio==2.4.0\n",
            "\u001b[?25l  Downloading https://files.pythonhosted.org/packages/ac/64/8e2bb6aac43d6ed7c2d9514320b43d5e80c00f150ee2b9408aee24359e6d/imageio-2.4.0.tar.gz (3.3MB)\n",
            "\u001b[K     |████████████████████████████████| 3.3MB 4.7MB/s \n",
            "\u001b[?25hRequirement already satisfied: numpy in /usr/local/lib/python3.6/dist-packages (from imageio==2.4.0) (1.17.5)\n",
            "Requirement already satisfied: pillow in /usr/local/lib/python3.6/dist-packages (from imageio==2.4.0) (6.2.2)\n",
            "Building wheels for collected packages: imageio\n",
            "  Building wheel for imageio (setup.py) ... \u001b[?25l\u001b[?25hdone\n",
            "  Created wheel for imageio: filename=imageio-2.4.0-cp36-none-any.whl size=3303880 sha256=c9aabf24e8de397142035a6d05cca924275d56eade2a0d10aefe753bf636e97d\n",
            "  Stored in directory: /root/.cache/pip/wheels/31/83/88/a1cba54ac06395d9e4ddcd9cf06911cd0b26cd78af9a61071b\n",
            "Successfully built imageio\n",
            "\u001b[31mERROR: albumentations 0.1.12 has requirement imgaug<0.2.7,>=0.2.5, but you'll have imgaug 0.2.9 which is incompatible.\u001b[0m\n",
            "Installing collected packages: imageio\n",
            "  Found existing installation: imageio 2.4.1\n",
            "    Uninstalling imageio-2.4.1:\n",
            "      Successfully uninstalled imageio-2.4.1\n",
            "Successfully installed imageio-2.4.0\n",
            "Requirement already satisfied: PILLOW in /usr/local/lib/python3.6/dist-packages (6.2.2)\n",
            "Collecting pyglet==1.3.2\n",
            "\u001b[?25l  Downloading https://files.pythonhosted.org/packages/1c/fc/dad5eaaab68f0c21e2f906a94ddb98175662cc5a654eee404d59554ce0fa/pyglet-1.3.2-py2.py3-none-any.whl (1.0MB)\n",
            "\u001b[K     |████████████████████████████████| 1.0MB 4.7MB/s \n",
            "\u001b[?25hRequirement already satisfied: future in /usr/local/lib/python3.6/dist-packages (from pyglet==1.3.2) (0.16.0)\n",
            "Installing collected packages: pyglet\n",
            "  Found existing installation: pyglet 1.4.10\n",
            "    Uninstalling pyglet-1.4.10:\n",
            "      Successfully uninstalled pyglet-1.4.10\n",
            "Successfully installed pyglet-1.3.2\n",
            "Collecting pyvirtualdisplay\n",
            "  Downloading https://files.pythonhosted.org/packages/69/ec/8221a07850d69fa3c57c02e526edd23d18c7c05d58ed103e3b19172757c1/PyVirtualDisplay-0.2.5-py2.py3-none-any.whl\n",
            "Collecting EasyProcess\n",
            "  Downloading https://files.pythonhosted.org/packages/32/8f/88d636f1da22a3c573259e44cfefb46a117d3f9432e2c98b1ab4a21372ad/EasyProcess-0.2.10-py2.py3-none-any.whl\n",
            "Installing collected packages: EasyProcess, pyvirtualdisplay\n",
            "Successfully installed EasyProcess-0.2.10 pyvirtualdisplay-0.2.5\n",
            "Collecting tensorflow-probability\n",
            "\u001b[?25l  Downloading https://files.pythonhosted.org/packages/9b/ed/f587d64127bbb85e539f06a2aace1240b7b5c6b4267bea94f232230551a5/tensorflow_probability-0.9.0-py2.py3-none-any.whl (3.2MB)\n",
            "\u001b[K     |████████████████████████████████| 3.2MB 4.7MB/s \n",
            "\u001b[?25hRequirement already satisfied, skipping upgrade: cloudpickle>=1.2.2 in /usr/local/lib/python3.6/dist-packages (from tensorflow-probability) (1.2.2)\n",
            "Requirement already satisfied, skipping upgrade: numpy>=1.13.3 in /usr/local/lib/python3.6/dist-packages (from tensorflow-probability) (1.17.5)\n",
            "Requirement already satisfied, skipping upgrade: gast>=0.2 in /usr/local/lib/python3.6/dist-packages (from tensorflow-probability) (0.2.2)\n",
            "Requirement already satisfied, skipping upgrade: decorator in /usr/local/lib/python3.6/dist-packages (from tensorflow-probability) (4.4.1)\n",
            "Requirement already satisfied, skipping upgrade: six>=1.10.0 in /usr/local/lib/python3.6/dist-packages (from tensorflow-probability) (1.12.0)\n",
            "\u001b[31mERROR: tensor2tensor 1.14.1 has requirement tensorflow-probability==0.7.0, but you'll have tensorflow-probability 0.9.0 which is incompatible.\u001b[0m\n",
            "Installing collected packages: tensorflow-probability\n",
            "  Found existing installation: tensorflow-probability 0.7.0\n",
            "    Uninstalling tensorflow-probability-0.7.0:\n",
            "      Successfully uninstalled tensorflow-probability-0.7.0\n",
            "Successfully installed tensorflow-probability-0.9.0\n",
            "Collecting tf-agents\n",
            "\u001b[?25l  Downloading https://files.pythonhosted.org/packages/0e/a5/07aa82a3cd586d193b2f086b50a2fd0f48bd888ae204389f666eb178cfb3/tf_agents-0.3.0-py2.py3-none-any.whl (839kB)\n",
            "\u001b[K     |████████████████████████████████| 839kB 4.5MB/s \n",
            "\u001b[?25hRequirement already satisfied: numpy>=1.13.3 in /usr/local/lib/python3.6/dist-packages (from tf-agents) (1.17.5)\n",
            "Requirement already satisfied: tensorflow-probability>=0.6.0 in /usr/local/lib/python3.6/dist-packages (from tf-agents) (0.9.0)\n",
            "Requirement already satisfied: six>=1.10.0 in /usr/local/lib/python3.6/dist-packages (from tf-agents) (1.12.0)\n",
            "Requirement already satisfied: absl-py>=0.6.1 in /usr/local/lib/python3.6/dist-packages (from tf-agents) (0.9.0)\n",
            "Collecting gin-config==0.1.3\n",
            "\u001b[?25l  Downloading https://files.pythonhosted.org/packages/8c/be/c984b1c8a7ba1c385b32bf39c7a225cd9f713d49705898309d01b60fd0e7/gin_config-0.1.3-py3-none-any.whl (43kB)\n",
            "\u001b[K     |████████████████████████████████| 51kB 6.3MB/s \n",
            "\u001b[?25hRequirement already satisfied: cloudpickle>=1.2.2 in /usr/local/lib/python3.6/dist-packages (from tensorflow-probability>=0.6.0->tf-agents) (1.2.2)\n",
            "Requirement already satisfied: gast>=0.2 in /usr/local/lib/python3.6/dist-packages (from tensorflow-probability>=0.6.0->tf-agents) (0.2.2)\n",
            "Requirement already satisfied: decorator in /usr/local/lib/python3.6/dist-packages (from tensorflow-probability>=0.6.0->tf-agents) (4.4.1)\n",
            "\u001b[31mERROR: tensor2tensor 1.14.1 has requirement tensorflow-probability==0.7.0, but you'll have tensorflow-probability 0.9.0 which is incompatible.\u001b[0m\n",
            "Installing collected packages: gin-config, tf-agents\n",
            "  Found existing installation: gin-config 0.3.0\n",
            "    Uninstalling gin-config-0.3.0:\n",
            "      Successfully uninstalled gin-config-0.3.0\n",
            "Successfully installed gin-config-0.1.3 tf-agents-0.3.0\n",
            "TensorFlow 2.x selected.\n"
          ],
          "name": "stdout"
        }
      ]
    },
    {
      "cell_type": "markdown",
      "metadata": {
        "id": "jSThf773Ys9t",
        "colab_type": "text"
      },
      "source": [
        "## Importando os módulos"
      ]
    },
    {
      "cell_type": "code",
      "metadata": {
        "id": "RmiZCBPLYuxk",
        "colab_type": "code",
        "outputId": "da6bdcda-503d-4823-ff70-67921df2970d",
        "colab": {
          "base_uri": "https://localhost:8080/",
          "height": 54
        }
      },
      "source": [
        "from __future__ import absolute_import, division, print_function\n",
        "\n",
        "import base64\n",
        "import imageio\n",
        "import IPython\n",
        "import matplotlib\n",
        "import matplotlib.pyplot as plt\n",
        "import PIL.Image\n",
        "import pyvirtualdisplay\n",
        "\n",
        "import tensorflow as tf\n",
        "\n",
        "from tf_agents.agents.dqn import dqn_agent\n",
        "from tf_agents.drivers import dynamic_step_driver\n",
        "from tf_agents.environments import suite_gym\n",
        "from tf_agents.environments import tf_py_environment\n",
        "from tf_agents.eval import metric_utils\n",
        "from tf_agents.metrics import tf_metrics\n",
        "from tf_agents.networks import q_network\n",
        "from tf_agents.policies import random_tf_policy\n",
        "from tf_agents.replay_buffers import tf_uniform_replay_buffer\n",
        "from tf_agents.trajectories import trajectory\n",
        "from tf_agents.utils import common\n",
        "from tf_agents.policies.policy_saver import PolicySaver\n",
        "\n",
        "tf.compat.v1.enable_v2_behavior()\n",
        "\n",
        "#Configurar um display virtual para renderizar os ambientes Gym\n",
        "\n",
        "display = pyvirtualdisplay.Display(visible=0, size=(1400, 900)).start()"
      ],
      "execution_count": 0,
      "outputs": [
        {
          "output_type": "stream",
          "text": [
            "xdpyinfo was not found, X start can not be checked! Please install xdpyinfo!\n"
          ],
          "name": "stderr"
        }
      ]
    },
    {
      "cell_type": "code",
      "metadata": {
        "id": "gIvXaVkjadgk",
        "colab_type": "code",
        "outputId": "eed339d7-54e0-4127-d5e7-1a1eacf18e32",
        "colab": {
          "base_uri": "https://localhost:8080/",
          "height": 34
        }
      },
      "source": [
        "tf.version.VERSION"
      ],
      "execution_count": 0,
      "outputs": [
        {
          "output_type": "execute_result",
          "data": {
            "text/plain": [
              "'2.1.0'"
            ]
          },
          "metadata": {
            "tags": []
          },
          "execution_count": 14
        }
      ]
    },
    {
      "cell_type": "markdown",
      "metadata": {
        "id": "sdAKgph8bEql",
        "colab_type": "text"
      },
      "source": [
        "## Hyperparâmetros"
      ]
    },
    {
      "cell_type": "code",
      "metadata": {
        "id": "eHPLfLivbGcH",
        "colab_type": "code",
        "colab": {}
      },
      "source": [
        "num_iterations = 20000 # @param {type:\"integer\"}\n",
        "\n",
        "initial_collect_steps = 1000 # @param {type:\"integer\"}\n",
        "collect_steps_per_iteration = 1 # @param {type:\"integer\"}\n",
        "replay_buffer_max_length = 100000 # @param {type:\"integer\"}\n",
        "\n",
        "batch_size = 64 # @param {type:\"integer\"}\n",
        "learning_rate = 1e-3 # @param {type:\"number\"}\n",
        "log_interval = 200 # @param {type:\"integer\"}\n",
        "\n",
        "num_eval_episodes = 10 # @param {type:\"integer\"}\n",
        "eval_interval = 1000 # @param {type:\"integer\"}"
      ],
      "execution_count": 0,
      "outputs": []
    },
    {
      "cell_type": "markdown",
      "metadata": {
        "id": "AzAJzPsqcI20",
        "colab_type": "text"
      },
      "source": [
        "## Ambiente"
      ]
    },
    {
      "cell_type": "code",
      "metadata": {
        "id": "SvyWqKYRcK_W",
        "colab_type": "code",
        "cellView": "both",
        "colab": {}
      },
      "source": [
        "env_name = 'CartPole-v0' # @param{type:\"string\"}\n",
        "\n",
        "env = suite_gym.load(env_name)"
      ],
      "execution_count": 0,
      "outputs": []
    },
    {
      "cell_type": "markdown",
      "metadata": {
        "id": "WAEsJMibctQU",
        "colab_type": "text"
      },
      "source": [
        "### Informações sobre o ambiente"
      ]
    },
    {
      "cell_type": "code",
      "metadata": {
        "id": "jE7aONVfdsXk",
        "colab_type": "code",
        "outputId": "69a73d75-6683-4936-9131-de8f4df8451a",
        "colab": {
          "base_uri": "https://localhost:8080/",
          "height": 417
        }
      },
      "source": [
        "env.reset()\n",
        "PIL.Image.fromarray(env.render())"
      ],
      "execution_count": 0,
      "outputs": [
        {
          "output_type": "execute_result",
          "data": {
            "image/png": "[encoded data removed]",
            "text/plain": [
              "<PIL.Image.Image image mode=RGB size=600x400 at 0x7F76A2B76C50>"
            ]
          },
          "metadata": {
            "tags": []
          },
          "execution_count": 8
        }
      ]
    },
    {
      "cell_type": "code",
      "metadata": {
        "id": "Y7D1aS_Ed-Es",
        "colab_type": "code",
        "outputId": "1c8c9343-025d-4d77-a48d-dde53c1b122f",
        "colab": {
          "base_uri": "https://localhost:8080/",
          "height": 71
        }
      },
      "source": [
        "print('Observation Spec:')\n",
        "print(env.time_step_spec().observation)"
      ],
      "execution_count": 0,
      "outputs": [
        {
          "output_type": "stream",
          "text": [
            "Observation Spec:\n",
            "BoundedArraySpec(shape=(4,), dtype=dtype('float32'), name='observation', minimum=[-4.8000002e+00 -3.4028235e+38 -4.1887903e-01 -3.4028235e+38], maximum=[4.8000002e+00 3.4028235e+38 4.1887903e-01 3.4028235e+38])\n"
          ],
          "name": "stdout"
        }
      ]
    },
    {
      "cell_type": "code",
      "metadata": {
        "id": "QWZPvMRveHnu",
        "colab_type": "code",
        "outputId": "5ff11e87-fbfc-4a35-ef7f-23f8fa169084",
        "colab": {
          "base_uri": "https://localhost:8080/",
          "height": 51
        }
      },
      "source": [
        "print('Reward Spec:')\n",
        "print(env.time_step_spec().reward)"
      ],
      "execution_count": 0,
      "outputs": [
        {
          "output_type": "stream",
          "text": [
            "Reward Spec:\n",
            "ArraySpec(shape=(), dtype=dtype('float32'), name='reward')\n"
          ],
          "name": "stdout"
        }
      ]
    },
    {
      "cell_type": "code",
      "metadata": {
        "id": "EuUsLCD-eXhM",
        "colab_type": "code",
        "outputId": "a2bc0531-41a8-4185-e65c-83617b6b0e70",
        "colab": {
          "base_uri": "https://localhost:8080/",
          "height": 71
        }
      },
      "source": [
        "print('Action Spec:')\n",
        "print(env.action_spec())"
      ],
      "execution_count": 0,
      "outputs": [
        {
          "output_type": "stream",
          "text": [
            "Action Spec:\n",
            "BoundedArraySpec(shape=(), dtype=dtype('int64'), name='action', minimum=0, maximum=1)\n"
          ],
          "name": "stdout"
        }
      ]
    },
    {
      "cell_type": "markdown",
      "metadata": {
        "id": "qckHOe02euhd",
        "colab_type": "text"
      },
      "source": [
        "### Realizando uma ação no ambiente"
      ]
    },
    {
      "cell_type": "code",
      "metadata": {
        "id": "XP3czq6LfVu0",
        "colab_type": "code",
        "outputId": "981c6716-0883-457e-d045-825096ad6337",
        "colab": {
          "base_uri": "https://localhost:8080/",
          "height": 105
        }
      },
      "source": [
        "time_step = env.reset()\n",
        "print('Time Step: ')\n",
        "print(time_step)\n",
        "\n",
        "action = 1\n",
        "\n",
        "next_time_step = env.step(action)\n",
        "print('Next time step: ')\n",
        "print(next_time_step)"
      ],
      "execution_count": 0,
      "outputs": [
        {
          "output_type": "stream",
          "text": [
            "Time Step: \n",
            "TimeStep(step_type=array(0, dtype=int32), reward=array(0., dtype=float32), discount=array(1., dtype=float32), observation=array([ 0.01895351, -0.01515035,  0.04441069, -0.04895841], dtype=float32))\n",
            "Next time step: \n",
            "TimeStep(step_type=array(1, dtype=int32), reward=array(1., dtype=float32), discount=array(1., dtype=float32), observation=array([ 0.0186505 ,  0.17930758,  0.04343152, -0.32730526], dtype=float32))\n"
          ],
          "name": "stdout"
        }
      ]
    },
    {
      "cell_type": "markdown",
      "metadata": {
        "id": "Y-1W7TnhfwXW",
        "colab_type": "text"
      },
      "source": [
        "### Criando um ambiente de treino e um ambiente de teste"
      ]
    },
    {
      "cell_type": "code",
      "metadata": {
        "id": "rGcXU7qvf3S5",
        "colab_type": "code",
        "colab": {}
      },
      "source": [
        "train_py_env = suite_gym.load(env_name)\n",
        "eval_py_env = suite_gym.load(env_name)\n",
        "\n",
        "train_env = tf_py_environment.TFPyEnvironment(train_py_env)\n",
        "eval_env = tf_py_environment.TFPyEnvironment(eval_py_env)"
      ],
      "execution_count": 0,
      "outputs": []
    },
    {
      "cell_type": "markdown",
      "metadata": {
        "id": "et5kCAcPgbL_",
        "colab_type": "text"
      },
      "source": [
        "## Agente"
      ]
    },
    {
      "cell_type": "markdown",
      "metadata": {
        "id": "P1UJyNSejGB1",
        "colab_type": "text"
      },
      "source": [
        "### Criando a QNetwork"
      ]
    },
    {
      "cell_type": "code",
      "metadata": {
        "id": "tScs4tdogcXd",
        "colab_type": "code",
        "colab": {}
      },
      "source": [
        "fc_layer_params = (100,)\n",
        "\n",
        "q_net = q_network.QNetwork(\n",
        "    train_env.observation_spec(),\n",
        "    train_env.action_spec(),\n",
        "    fc_layer_params = fc_layer_params)"
      ],
      "execution_count": 0,
      "outputs": []
    },
    {
      "cell_type": "markdown",
      "metadata": {
        "id": "hEJdH5byjLK_",
        "colab_type": "text"
      },
      "source": [
        "### Criando o agente"
      ]
    },
    {
      "cell_type": "code",
      "metadata": {
        "id": "srBP8X0SjSoW",
        "colab_type": "code",
        "colab": {}
      },
      "source": [
        "optimizer = tf.compat.v1.train.AdamOptimizer(learning_rate=learning_rate)\n",
        "\n",
        "train_step_counter = tf.Variable(0)\n",
        "\n",
        "agent = dqn_agent.DdqnAgent(\n",
        "    train_env.time_step_spec(),\n",
        "    train_env.action_spec(),\n",
        "    q_network = q_net,\n",
        "    optimizer = optimizer,\n",
        "    td_errors_loss_fn = common.element_wise_squared_loss,\n",
        "    train_step_counter = train_step_counter)\n",
        "\n",
        "agent.initialize()"
      ],
      "execution_count": 0,
      "outputs": []
    },
    {
      "cell_type": "markdown",
      "metadata": {
        "id": "KCb-2byHkt_W",
        "colab_type": "text"
      },
      "source": [
        "## Política"
      ]
    },
    {
      "cell_type": "markdown",
      "metadata": {
        "id": "WeOvD2B7mQ4q",
        "colab_type": "text"
      },
      "source": [
        "### Criando a política de avaliação e a política para coleta de dados"
      ]
    },
    {
      "cell_type": "code",
      "metadata": {
        "id": "VxxmWXrskvQ-",
        "colab_type": "code",
        "colab": {}
      },
      "source": [
        "eval_policy = agent.policy\n",
        "collect_policy = agent.collect_policy"
      ],
      "execution_count": 0,
      "outputs": []
    },
    {
      "cell_type": "markdown",
      "metadata": {
        "id": "a4WIJP0PnAmR",
        "colab_type": "text"
      },
      "source": [
        "### Criando uma política aleatória e executando uma ação em um ambiente de exemplo"
      ]
    },
    {
      "cell_type": "code",
      "metadata": {
        "id": "vqvvlT9nnPlg",
        "colab_type": "code",
        "outputId": "e2a952c1-0f84-46ca-b2d2-e21f8efe112d",
        "colab": {
          "base_uri": "https://localhost:8080/",
          "height": 54
        }
      },
      "source": [
        "random_policy = random_tf_policy.RandomTFPolicy(train_env.time_step_spec(),\n",
        "                                                train_env.action_spec())\n",
        "\n",
        "example_environment = tf_py_environment.TFPyEnvironment(suite_gym.load('CartPole-v0'))\n",
        "\n",
        "time_step = example_environment.reset()\n",
        "\n",
        "random_policy.action(time_step)"
      ],
      "execution_count": 0,
      "outputs": [
        {
          "output_type": "execute_result",
          "data": {
            "text/plain": [
              "PolicyStep(action=<tf.Tensor: shape=(1,), dtype=int64, numpy=array([1])>, state=(), info=())"
            ]
          },
          "metadata": {
            "tags": []
          },
          "execution_count": 28
        }
      ]
    },
    {
      "cell_type": "markdown",
      "metadata": {
        "id": "cD-DsIAtoY4w",
        "colab_type": "text"
      },
      "source": [
        "## Métricas e avaliação"
      ]
    },
    {
      "cell_type": "code",
      "metadata": {
        "id": "WfAX0pEAobfe",
        "colab_type": "code",
        "colab": {}
      },
      "source": [
        "# @test {\"skip\": true}\n",
        "\n",
        "def compute_avg_return(environment, policy, num_episodes = 10):\n",
        "\n",
        "  total_return = 0.0\n",
        "\n",
        "  for _ in range(num_episodes):\n",
        "\n",
        "    time_step = environment.reset()\n",
        "    episode_return = 0.0\n",
        "\n",
        "    while not time_step.is_last():\n",
        "      action_step = policy.action(time_step)\n",
        "      time_step = environment.step(action_step.action)\n",
        "      episode_return += time_step.reward\n",
        "    \n",
        "    total_return += episode_return\n",
        "\n",
        "  avg_return = total_return / num_episodes\n",
        "  return avg_return.numpy()[0]"
      ],
      "execution_count": 0,
      "outputs": []
    },
    {
      "cell_type": "markdown",
      "metadata": {
        "id": "iytff-qEX1Re",
        "colab_type": "text"
      },
      "source": [
        "### Rodando a métrica acima em uma política aleatória, é possível ver o desempenho inicial de um agente"
      ]
    },
    {
      "cell_type": "code",
      "metadata": {
        "id": "mjytykmYYFgU",
        "colab_type": "code",
        "outputId": "735ee4cf-b12d-4738-b75a-774f74258acf",
        "colab": {
          "base_uri": "https://localhost:8080/",
          "height": 34
        }
      },
      "source": [
        "compute_avg_return(eval_env, random_policy, num_eval_episodes)"
      ],
      "execution_count": 0,
      "outputs": [
        {
          "output_type": "execute_result",
          "data": {
            "text/plain": [
              "17.3"
            ]
          },
          "metadata": {
            "tags": []
          },
          "execution_count": 33
        }
      ]
    },
    {
      "cell_type": "markdown",
      "metadata": {
        "id": "cVNeJt05YPF2",
        "colab_type": "text"
      },
      "source": [
        "## Replay Buffer"
      ]
    },
    {
      "cell_type": "code",
      "metadata": {
        "id": "1YSfu9UWYQhY",
        "colab_type": "code",
        "colab": {}
      },
      "source": [
        "replay_buffer = tf_uniform_replay_buffer.TFUniformReplayBuffer(\n",
        "    data_spec = agent.collect_data_spec,\n",
        "    batch_size = train_env.batch_size,\n",
        "    max_length = replay_buffer_max_length)"
      ],
      "execution_count": 0,
      "outputs": []
    },
    {
      "cell_type": "code",
      "metadata": {
        "id": "fE1alBKoawgm",
        "colab_type": "code",
        "outputId": "bfa131cd-04ef-4643-b4d4-6db026a64dab",
        "colab": {
          "base_uri": "https://localhost:8080/",
          "height": 88
        }
      },
      "source": [
        "agent.collect_data_spec"
      ],
      "execution_count": 0,
      "outputs": [
        {
          "output_type": "execute_result",
          "data": {
            "text/plain": [
              "Trajectory(step_type=TensorSpec(shape=(), dtype=tf.int32, name='step_type'), observation=BoundedTensorSpec(shape=(4,), dtype=tf.float32, name='observation', minimum=array([-4.8000002e+00, -3.4028235e+38, -4.1887903e-01, -3.4028235e+38],\n",
              "      dtype=float32), maximum=array([4.8000002e+00, 3.4028235e+38, 4.1887903e-01, 3.4028235e+38],\n",
              "      dtype=float32)), action=BoundedTensorSpec(shape=(), dtype=tf.int64, name='action', minimum=array(0), maximum=array(1)), policy_info=(), next_step_type=TensorSpec(shape=(), dtype=tf.int32, name='step_type'), reward=TensorSpec(shape=(), dtype=tf.float32, name='reward'), discount=BoundedTensorSpec(shape=(), dtype=tf.float32, name='discount', minimum=array(0., dtype=float32), maximum=array(1., dtype=float32)))"
            ]
          },
          "metadata": {
            "tags": []
          },
          "execution_count": 35
        }
      ]
    },
    {
      "cell_type": "code",
      "metadata": {
        "id": "7JCgKW-_aweS",
        "colab_type": "code",
        "outputId": "fccc6f28-d87a-41b2-b573-a051500b51b9",
        "colab": {
          "base_uri": "https://localhost:8080/",
          "height": 136
        }
      },
      "source": [
        "agent.collect_data_spec._fields"
      ],
      "execution_count": 0,
      "outputs": [
        {
          "output_type": "execute_result",
          "data": {
            "text/plain": [
              "('step_type',\n",
              " 'observation',\n",
              " 'action',\n",
              " 'policy_info',\n",
              " 'next_step_type',\n",
              " 'reward',\n",
              " 'discount')"
            ]
          },
          "metadata": {
            "tags": []
          },
          "execution_count": 36
        }
      ]
    },
    {
      "cell_type": "markdown",
      "metadata": {
        "id": "JBs2NMnGa8AL",
        "colab_type": "text"
      },
      "source": [
        "## Coletar dados"
      ]
    },
    {
      "cell_type": "markdown",
      "metadata": {
        "id": "w78VIedbbGq3",
        "colab_type": "text"
      },
      "source": [
        "### Executar alguns passos da política aleatória no ambiente e salvar no replay buffer"
      ]
    },
    {
      "cell_type": "code",
      "metadata": {
        "id": "kIJe_wjoa4ci",
        "colab_type": "code",
        "colab": {}
      },
      "source": [
        "# @test{\"skip\": true}\n",
        "\n",
        "def collect_step(environment, policy, buffer):\n",
        "  time_step = environment.current_time_step()\n",
        "  action_step = policy.action(time_step)\n",
        "  next_time_step = environment.step(action_step.action)\n",
        "  traj = trajectory.from_transition(time_step, action_step, next_time_step)\n",
        "\n",
        "  # Adicionar a trajetória no replay buffer\n",
        "  buffer.add_batch(traj)\n",
        "\n",
        "def collect_data(env, policy, buffer, steps):\n",
        "  for _ in range(steps):\n",
        "    collect_step(env, policy, buffer)\n",
        "\n",
        "collect_data(train_env, random_policy, replay_buffer, steps = 100)\n",
        "\n",
        "#Agora o replay buffer está cheio de trajetórias"
      ],
      "execution_count": 0,
      "outputs": []
    },
    {
      "cell_type": "markdown",
      "metadata": {
        "id": "0UQML0IgdA4Y",
        "colab_type": "text"
      },
      "source": [
        "### Observar uma das trajetórias"
      ]
    },
    {
      "cell_type": "code",
      "metadata": {
        "id": "Q8q4J8Ejc9SU",
        "colab_type": "code",
        "outputId": "55242bcd-7715-40f7-c7d7-4284238b3331",
        "colab": {
          "base_uri": "https://localhost:8080/",
          "height": 71
        }
      },
      "source": [
        "#iter(replay_buffer.as_dataset()).next()"
      ],
      "execution_count": 0,
      "outputs": [
        {
          "output_type": "execute_result",
          "data": {
            "text/plain": [
              "(Trajectory(step_type=<tf.Tensor: shape=(), dtype=int32, numpy=1>, observation=<tf.Tensor: shape=(4,), dtype=float32, numpy=array([ 0.01593863, -0.03137911, -0.10254499, -0.15399222], dtype=float32)>, action=<tf.Tensor: shape=(), dtype=int64, numpy=1>, policy_info=(), next_step_type=<tf.Tensor: shape=(), dtype=int32, numpy=1>, reward=<tf.Tensor: shape=(), dtype=float32, numpy=1.0>, discount=<tf.Tensor: shape=(), dtype=float32, numpy=1.0>),\n",
              " BufferInfo(ids=<tf.Tensor: shape=(), dtype=int64, numpy=34>, probabilities=<tf.Tensor: shape=(), dtype=float32, numpy=0.01>))"
            ]
          },
          "metadata": {
            "tags": []
          },
          "execution_count": 39
        }
      ]
    },
    {
      "cell_type": "markdown",
      "metadata": {
        "id": "Y_ufkeHKdeuZ",
        "colab_type": "text"
      },
      "source": [
        "## Enviar 2 linhas do replay buffer para o agente (observação atual e próxima)"
      ]
    },
    {
      "cell_type": "code",
      "metadata": {
        "id": "sbNiza0gd5Fc",
        "colab_type": "code",
        "outputId": "6705afb4-f4b9-4c76-fc9a-cc6e3eeda73d",
        "colab": {
          "base_uri": "https://localhost:8080/",
          "height": 54
        }
      },
      "source": [
        "dataset = replay_buffer.as_dataset(\n",
        "    num_parallel_calls = 3,\n",
        "    sample_batch_size = batch_size,\n",
        "    num_steps = 2).prefetch(3)\n",
        "\n",
        "dataset"
      ],
      "execution_count": 0,
      "outputs": [
        {
          "output_type": "execute_result",
          "data": {
            "text/plain": [
              "<PrefetchDataset shapes: (Trajectory(step_type=(64, 2), observation=(64, 2, 4), action=(64, 2), policy_info=(), next_step_type=(64, 2), reward=(64, 2), discount=(64, 2)), BufferInfo(ids=(64, 2), probabilities=(64,))), types: (Trajectory(step_type=tf.int32, observation=tf.float32, action=tf.int64, policy_info=(), next_step_type=tf.int32, reward=tf.float32, discount=tf.float32), BufferInfo(ids=tf.int64, probabilities=tf.float32))>"
            ]
          },
          "metadata": {
            "tags": []
          },
          "execution_count": 40
        }
      ]
    },
    {
      "cell_type": "code",
      "metadata": {
        "id": "R9Ykrpv7eWSE",
        "colab_type": "code",
        "outputId": "b4c8ba6c-71fe-4738-df95-fa6baa452ac6",
        "colab": {
          "base_uri": "https://localhost:8080/",
          "height": 54
        }
      },
      "source": [
        "iterator = iter(dataset)\n",
        "\n",
        "print(iterator)"
      ],
      "execution_count": 0,
      "outputs": [
        {
          "output_type": "stream",
          "text": [
            "<tensorflow.python.data.ops.iterator_ops.OwnedIterator object at 0x7fb6ffc0f438>\n"
          ],
          "name": "stdout"
        }
      ]
    },
    {
      "cell_type": "markdown",
      "metadata": {
        "id": "7EdvFam4ebE4",
        "colab_type": "text"
      },
      "source": [
        "### Observar os dados que estão sendo passados para o agente pelo iterador"
      ]
    },
    {
      "cell_type": "code",
      "metadata": {
        "id": "mg-7qLnWeqaY",
        "colab_type": "code",
        "outputId": "3db01b45-c1f3-4346-8372-8b38d100262e",
        "colab": {
          "base_uri": "https://localhost:8080/",
          "height": 1000
        }
      },
      "source": [
        "#iterator.next()"
      ],
      "execution_count": 0,
      "outputs": [
        {
          "output_type": "execute_result",
          "data": {
            "text/plain": [
              "(Trajectory(step_type=<tf.Tensor: shape=(64, 2), dtype=int32, numpy=\n",
              "array([[1, 1],\n",
              "       [1, 1],\n",
              "       [1, 2],\n",
              "       [1, 1],\n",
              "       [1, 1],\n",
              "       [1, 1],\n",
              "       [1, 1],\n",
              "       [1, 1],\n",
              "       [1, 1],\n",
              "       [1, 1],\n",
              "       [1, 1],\n",
              "       [1, 1],\n",
              "       [1, 1],\n",
              "       [1, 1],\n",
              "       [1, 1],\n",
              "       [1, 1],\n",
              "       [1, 1],\n",
              "       [2, 0],\n",
              "       [1, 1],\n",
              "       [1, 1],\n",
              "       [0, 1],\n",
              "       [2, 0],\n",
              "       [1, 1],\n",
              "       [1, 1],\n",
              "       [1, 1],\n",
              "       [1, 1],\n",
              "       [1, 1],\n",
              "       [1, 1],\n",
              "       [1, 1],\n",
              "       [1, 2],\n",
              "       [1, 1],\n",
              "       [1, 1],\n",
              "       [1, 1],\n",
              "       [0, 1],\n",
              "       [1, 1],\n",
              "       [1, 1],\n",
              "       [1, 1],\n",
              "       [1, 1],\n",
              "       [2, 0],\n",
              "       [1, 2],\n",
              "       [1, 1],\n",
              "       [1, 1],\n",
              "       [1, 1],\n",
              "       [1, 1],\n",
              "       [1, 1],\n",
              "       [1, 1],\n",
              "       [1, 1],\n",
              "       [1, 1],\n",
              "       [1, 1],\n",
              "       [1, 1],\n",
              "       [1, 1],\n",
              "       [1, 1],\n",
              "       [1, 1],\n",
              "       [1, 2],\n",
              "       [1, 1],\n",
              "       [1, 2],\n",
              "       [1, 1],\n",
              "       [1, 1],\n",
              "       [1, 1],\n",
              "       [1, 1],\n",
              "       [1, 1],\n",
              "       [1, 1],\n",
              "       [1, 1],\n",
              "       [1, 1]], dtype=int32)>, observation=<tf.Tensor: shape=(64, 2, 4), dtype=float32, numpy=\n",
              "array([[[-3.98338214e-03,  5.99601865e-01, -9.00960937e-02,\n",
              "         -1.18278861e+00],\n",
              "        [ 8.00865516e-03,  7.95769930e-01, -1.13751866e-01,\n",
              "         -1.50229979e+00]],\n",
              "\n",
              "       [[-4.32496741e-02,  1.80716231e-01,  7.28196874e-02,\n",
              "         -1.01832129e-01],\n",
              "        [-3.96353528e-02,  3.74723136e-01,  7.07830489e-02,\n",
              "         -3.70681167e-01]],\n",
              "\n",
              "       [[ 4.37655412e-02,  1.18846774e+00, -1.80362344e-01,\n",
              "         -2.16190505e+00],\n",
              "        [ 6.75348938e-02,  9.95513082e-01, -2.23600447e-01,\n",
              "         -1.92990744e+00]],\n",
              "\n",
              "       [[-5.42155951e-02,  3.78908813e-01,  8.16600993e-02,\n",
              "         -4.63720113e-01],\n",
              "        [-4.66374196e-02,  1.82733551e-01,  7.23856986e-02,\n",
              "         -1.46456406e-01]],\n",
              "\n",
              "       [[-6.06622435e-02, -7.75821924e-01,  4.32213843e-02,\n",
              "          1.18744040e+00],\n",
              "        [-7.61786848e-02, -5.81286252e-01,  6.69701919e-02,\n",
              "          9.08612430e-01]],\n",
              "\n",
              "       [[-1.64426845e-02,  1.17559601e-02, -5.66644482e-02,\n",
              "         -2.46712551e-01],\n",
              "        [-1.62075646e-02,  2.07639486e-01, -6.15986995e-02,\n",
              "         -5.56716681e-01]],\n",
              "\n",
              "       [[-3.38319018e-02, -3.95282149e-01,  4.83134426e-02,\n",
              "          5.70407093e-01],\n",
              "        [-4.17375453e-02, -2.00869843e-01,  5.97215854e-02,\n",
              "          2.93327570e-01]],\n",
              "\n",
              "       [[ 1.23372056e-01,  3.66912752e-01, -1.35080323e-01,\n",
              "         -6.64210498e-01],\n",
              "        [ 1.30710304e-01,  1.73902735e-01, -1.48364544e-01,\n",
              "         -4.16925758e-01]],\n",
              "\n",
              "       [[ 1.53110484e-02,  1.65050223e-01, -1.05624825e-01,\n",
              "         -4.77183849e-01],\n",
              "        [ 1.86120532e-02, -2.84342207e-02, -1.15168504e-01,\n",
              "         -2.19570637e-01]],\n",
              "\n",
              "       [[-2.05666590e-02,  2.06198722e-01, -4.61745411e-02,\n",
              "         -5.24495304e-01],\n",
              "        [-1.64426845e-02,  1.17559601e-02, -5.66644482e-02,\n",
              "         -2.46712551e-01]],\n",
              "\n",
              "       [[ 1.59386303e-02, -3.13791148e-02, -1.02544986e-01,\n",
              "         -1.53992221e-01],\n",
              "        [ 1.53110484e-02,  1.65050223e-01, -1.05624825e-01,\n",
              "         -4.77183849e-01]],\n",
              "\n",
              "       [[-2.07767598e-02,  1.05050011e-02, -4.17960100e-02,\n",
              "         -2.18926653e-01],\n",
              "        [-2.05666590e-02,  2.06198722e-01, -4.61745411e-02,\n",
              "         -5.24495304e-01]],\n",
              "\n",
              "       [[-2.49278406e-03,  5.52804053e-01,  4.32268493e-02,\n",
              "         -7.48771429e-01],\n",
              "        [ 8.56329687e-03,  7.47303843e-01,  2.82514207e-02,\n",
              "         -1.02754390e+00]],\n",
              "\n",
              "       [[ 2.08787131e-03, -5.76992452e-01, -6.56160563e-02,\n",
              "          7.08214045e-01],\n",
              "        [-9.45197791e-03, -3.81025910e-01, -5.14517762e-02,\n",
              "          3.95619512e-01]],\n",
              "\n",
              "       [[-4.17375453e-02, -2.00869843e-01,  5.97215854e-02,\n",
              "          2.93327570e-01],\n",
              "        [-4.57549393e-02, -3.96790177e-01,  6.55881390e-02,\n",
              "          6.04231834e-01]],\n",
              "\n",
              "       [[-1.64426845e-02,  1.17559601e-02, -5.66644482e-02,\n",
              "         -2.46712551e-01],\n",
              "        [-1.62075646e-02,  2.07639486e-01, -6.15986995e-02,\n",
              "         -5.56716681e-01]],\n",
              "\n",
              "       [[ 2.08787131e-03, -5.76992452e-01, -6.56160563e-02,\n",
              "          7.08214045e-01],\n",
              "        [-9.45197791e-03, -3.81025910e-01, -5.14517762e-02,\n",
              "          3.95619512e-01]],\n",
              "\n",
              "       [[ 6.63946420e-02,  3.73291701e-01, -2.28970796e-01,\n",
              "         -1.08256412e+00],\n",
              "        [-7.27947429e-03, -2.87339296e-02,  4.71701808e-02,\n",
              "          4.58740294e-02]],\n",
              "\n",
              "       [[-2.38035060e-03,  3.91545713e-01, -4.90893051e-02,\n",
              "         -6.01695657e-01],\n",
              "        [ 5.45056397e-03,  1.97143570e-01, -6.11232184e-02,\n",
              "         -3.24870169e-01]],\n",
              "\n",
              "       [[ 8.56329687e-03,  7.47303843e-01,  2.82514207e-02,\n",
              "         -1.02754390e+00],\n",
              "        [ 2.35093739e-02,  9.42038596e-01,  7.70054292e-03,\n",
              "         -1.31122458e+00]],\n",
              "\n",
              "       [[-2.97634173e-02, -3.85081046e-03,  4.38584611e-02,\n",
              "         -4.17213328e-02],\n",
              "        [-2.98404340e-02, -1.99573338e-01,  4.30240333e-02,\n",
              "          2.64470398e-01]],\n",
              "\n",
              "       [[ 6.63946420e-02,  3.73291701e-01, -2.28970796e-01,\n",
              "         -1.08256412e+00],\n",
              "        [-7.27947429e-03, -2.87339296e-02,  4.71701808e-02,\n",
              "          4.58740294e-02]],\n",
              "\n",
              "       [[-2.05666590e-02,  2.06198722e-01, -4.61745411e-02,\n",
              "         -5.24495304e-01],\n",
              "        [-1.64426845e-02,  1.17559601e-02, -5.66644482e-02,\n",
              "         -2.46712551e-01]],\n",
              "\n",
              "       [[-4.32496741e-02,  1.80716231e-01,  7.28196874e-02,\n",
              "         -1.01832129e-01],\n",
              "        [-3.96353528e-02,  3.74723136e-01,  7.07830489e-02,\n",
              "         -3.70681167e-01]],\n",
              "\n",
              "       [[ 9.88890231e-02,  5.53696096e-01, -9.76103321e-02,\n",
              "         -7.70592749e-01],\n",
              "        [ 1.09962948e-01,  3.60043257e-01, -1.13022186e-01,\n",
              "         -5.10148108e-01]],\n",
              "\n",
              "       [[-1.29460031e-02,  1.64196670e-01,  5.66672012e-02,\n",
              "         -1.98867589e-01],\n",
              "        [-9.66206938e-03,  3.58464271e-01,  5.26898503e-02,\n",
              "         -4.73149985e-01]],\n",
              "\n",
              "       [[ 5.56872878e-03,  3.56205344e-01, -8.05980936e-02,\n",
              "         -6.81801736e-01],\n",
              "        [ 1.26928361e-02,  1.62289754e-01, -9.42341238e-02,\n",
              "         -4.15542781e-01]],\n",
              "\n",
              "       [[ 4.23501469e-02,  1.13706219e+00, -1.85239501e-02,\n",
              "         -1.60148740e+00],\n",
              "        [ 6.50913864e-02,  9.42164361e-01, -5.05536981e-02,\n",
              "         -1.31463659e+00]],\n",
              "\n",
              "       [[-1.22806139e-01, -5.86171687e-01,  1.42569602e-01,\n",
              "          1.02383792e+00],\n",
              "        [-1.34529576e-01, -7.82874823e-01,  1.63046360e-01,\n",
              "          1.35767257e+00]],\n",
              "\n",
              "       [[ 4.37655412e-02,  1.18846774e+00, -1.80362344e-01,\n",
              "         -2.16190505e+00],\n",
              "        [ 6.75348938e-02,  9.95513082e-01, -2.23600447e-01,\n",
              "         -1.92990744e+00]],\n",
              "\n",
              "       [[-5.79177886e-02,  1.85109586e-01,  8.56448114e-02,\n",
              "         -1.99235544e-01],\n",
              "        [-5.42155951e-02,  3.78908813e-01,  8.16600993e-02,\n",
              "         -4.63720113e-01]],\n",
              "\n",
              "       [[ 9.74783581e-03, -3.82998198e-01, -7.44137615e-02,\n",
              "          4.39885408e-01],\n",
              "        [ 2.08787131e-03, -5.76992452e-01, -6.56160563e-02,\n",
              "          7.08214045e-01]],\n",
              "\n",
              "       [[-2.20426917e-02, -3.85332882e-01, -1.59141980e-02,\n",
              "          5.96200526e-01],\n",
              "        [-2.97493506e-02, -5.80228508e-01, -3.99018731e-03,\n",
              "          8.83828402e-01]],\n",
              "\n",
              "       [[-6.29945146e-03,  1.19319506e-04, -4.33816873e-02,\n",
              "          1.03338920e-02],\n",
              "        [-6.29706495e-03,  1.95835710e-01, -4.31750119e-02,\n",
              "         -2.95714706e-01]],\n",
              "\n",
              "       [[ 1.53110484e-02,  1.65050223e-01, -1.05624825e-01,\n",
              "         -4.77183849e-01],\n",
              "        [ 1.86120532e-02, -2.84342207e-02, -1.15168504e-01,\n",
              "         -2.19570637e-01]],\n",
              "\n",
              "       [[-4.32496741e-02,  1.80716231e-01,  7.28196874e-02,\n",
              "         -1.01832129e-01],\n",
              "        [-3.96353528e-02,  3.74723136e-01,  7.07830489e-02,\n",
              "         -3.70681167e-01]],\n",
              "\n",
              "       [[-5.44023840e-03,  5.50448358e-01, -6.15072213e-02,\n",
              "         -9.54543591e-01],\n",
              "        [ 5.56872878e-03,  3.56205344e-01, -8.05980936e-02,\n",
              "         -6.81801736e-01]],\n",
              "\n",
              "       [[ 4.23501469e-02,  1.13706219e+00, -1.85239501e-02,\n",
              "         -1.60148740e+00],\n",
              "        [ 6.50913864e-02,  9.42164361e-01, -5.05536981e-02,\n",
              "         -1.31463659e+00]],\n",
              "\n",
              "       [[ 6.75348938e-02,  9.95513082e-01, -2.23600447e-01,\n",
              "         -1.92990744e+00],\n",
              "        [-3.77795920e-02, -3.77731137e-02,  1.76356663e-03,\n",
              "         -1.21897366e-02]],\n",
              "\n",
              "       [[-1.50187060e-01, -5.90129673e-01,  1.90199807e-01,\n",
              "          1.12011290e+00],\n",
              "        [-1.61989659e-01, -7.87167370e-01,  2.12602064e-01,\n",
              "          1.46592164e+00]],\n",
              "\n",
              "       [[-5.36907427e-02, -2.02643842e-01,  7.76727721e-02,\n",
              "          3.32907587e-01],\n",
              "        [-5.77436201e-02, -8.70839879e-03,  8.43309239e-02,\n",
              "          6.56943396e-02]],\n",
              "\n",
              "       [[-7.85415247e-03, -2.24499419e-01,  4.80876602e-02,\n",
              "          3.53058547e-01],\n",
              "        [-1.23441415e-02, -3.00930794e-02,  5.51488325e-02,\n",
              "          7.59184361e-02]],\n",
              "\n",
              "       [[-2.20426917e-02, -3.85332882e-01, -1.59141980e-02,\n",
              "          5.96200526e-01],\n",
              "        [-2.97493506e-02, -5.80228508e-01, -3.99018731e-03,\n",
              "          8.83828402e-01]],\n",
              "\n",
              "       [[-3.53885815e-02,  3.52423757e-01, -4.56654234e-03,\n",
              "         -5.96518934e-01],\n",
              "        [-2.83401087e-02,  1.57366008e-01, -1.64969210e-02,\n",
              "         -3.05277944e-01]],\n",
              "\n",
              "       [[-1.25339292e-02,  3.54684561e-01, -4.85678054e-02,\n",
              "         -6.46970809e-01],\n",
              "        [-5.44023840e-03,  5.50448358e-01, -6.15072213e-02,\n",
              "         -9.54543591e-01]],\n",
              "\n",
              "       [[ 2.14059595e-02,  3.64710480e-01, -1.30484864e-01,\n",
              "         -8.74081135e-01],\n",
              "        [ 2.87001692e-02,  5.61342061e-01, -1.47966489e-01,\n",
              "         -1.20477486e+00]],\n",
              "\n",
              "       [[-2.98404340e-02, -1.99573338e-01,  4.30240333e-02,\n",
              "          2.64470398e-01],\n",
              "        [-3.38319018e-02, -3.95282149e-01,  4.83134426e-02,\n",
              "          5.70407093e-01]],\n",
              "\n",
              "       [[-1.82320327e-02, -1.90533027e-01, -2.21257322e-02,\n",
              "          3.10576707e-01],\n",
              "        [-2.20426917e-02, -3.85332882e-01, -1.59141980e-02,\n",
              "          5.96200526e-01]],\n",
              "\n",
              "       [[-9.45197791e-03, -3.81025910e-01, -5.14517762e-02,\n",
              "          3.95619512e-01],\n",
              "        [-1.70724969e-02, -1.85213134e-01, -4.35393862e-02,\n",
              "          8.71688500e-02]],\n",
              "\n",
              "       [[ 8.56329687e-03,  7.47303843e-01,  2.82514207e-02,\n",
              "         -1.02754390e+00],\n",
              "        [ 2.35093739e-02,  9.42038596e-01,  7.70054292e-03,\n",
              "         -1.31122458e+00]],\n",
              "\n",
              "       [[-2.85674762e-02, -1.72999632e-02,  6.22385032e-02,\n",
              "          2.55438060e-01],\n",
              "        [-2.89134756e-02,  1.76880687e-01,  6.73472658e-02,\n",
              "         -1.69826727e-02]],\n",
              "\n",
              "       [[-6.06622435e-02, -7.75821924e-01,  4.32213843e-02,\n",
              "          1.18744040e+00],\n",
              "        [-7.61786848e-02, -5.81286252e-01,  6.69701919e-02,\n",
              "          9.08612430e-01]],\n",
              "\n",
              "       [[ 1.59386303e-02, -3.13791148e-02, -1.02544986e-01,\n",
              "         -1.53992221e-01],\n",
              "        [ 1.53110484e-02,  1.65050223e-01, -1.05624825e-01,\n",
              "         -4.77183849e-01]],\n",
              "\n",
              "       [[ 4.37655412e-02,  1.18846774e+00, -1.80362344e-01,\n",
              "         -2.16190505e+00],\n",
              "        [ 6.75348938e-02,  9.95513082e-01, -2.23600447e-01,\n",
              "         -1.92990744e+00]],\n",
              "\n",
              "       [[-4.57549393e-02, -3.96790177e-01,  6.55881390e-02,\n",
              "          6.04231834e-01],\n",
              "        [-5.36907427e-02, -2.02643842e-01,  7.76727721e-02,\n",
              "          3.32907587e-01]],\n",
              "\n",
              "       [[ 1.52957529e-01,  7.64595091e-01, -1.93553552e-01,\n",
              "         -1.43134415e+00],\n",
              "        [ 1.68249443e-01,  9.61506546e-01, -2.22180426e-01,\n",
              "         -1.77774608e+00]],\n",
              "\n",
              "       [[-1.25339292e-02,  3.54684561e-01, -4.85678054e-02,\n",
              "         -6.46970809e-01],\n",
              "        [-5.44023840e-03,  5.50448358e-01, -6.15072213e-02,\n",
              "         -9.54543591e-01]],\n",
              "\n",
              "       [[ 1.59386303e-02, -3.13791148e-02, -1.02544986e-01,\n",
              "         -1.53992221e-01],\n",
              "        [ 1.53110484e-02,  1.65050223e-01, -1.05624825e-01,\n",
              "         -4.77183849e-01]],\n",
              "\n",
              "       [[-5.77436201e-02, -8.70839879e-03,  8.43309239e-02,\n",
              "          6.56943396e-02],\n",
              "        [-5.79177886e-02,  1.85109586e-01,  8.56448114e-02,\n",
              "         -1.99235544e-01]],\n",
              "\n",
              "       [[-2.49278406e-03,  5.52804053e-01,  4.32268493e-02,\n",
              "         -7.48771429e-01],\n",
              "        [ 8.56329687e-03,  7.47303843e-01,  2.82514207e-02,\n",
              "         -1.02754390e+00]],\n",
              "\n",
              "       [[ 1.20497406e-01, -2.64870580e-02, -1.28327370e-01,\n",
              "         -3.69465165e-03],\n",
              "        [ 1.19967662e-01,  1.70219421e-01, -1.28401265e-01,\n",
              "         -3.33952993e-01]],\n",
              "\n",
              "       [[-1.70724969e-02, -1.85213134e-01, -4.35393862e-02,\n",
              "          8.71688500e-02],\n",
              "        [-2.07767598e-02,  1.05050011e-02, -4.17960100e-02,\n",
              "         -2.18926653e-01]],\n",
              "\n",
              "       [[-3.98338214e-03,  5.99601865e-01, -9.00960937e-02,\n",
              "         -1.18278861e+00],\n",
              "        [ 8.00865516e-03,  7.95769930e-01, -1.13751866e-01,\n",
              "         -1.50229979e+00]],\n",
              "\n",
              "       [[ 1.59386303e-02, -3.13791148e-02, -1.02544986e-01,\n",
              "         -1.53992221e-01],\n",
              "        [ 1.53110484e-02,  1.65050223e-01, -1.05624825e-01,\n",
              "         -4.77183849e-01]]], dtype=float32)>, action=<tf.Tensor: shape=(64, 2), dtype=int64, numpy=\n",
              "array([[1, 1],\n",
              "       [1, 0],\n",
              "       [0, 1],\n",
              "       [0, 0],\n",
              "       [1, 1],\n",
              "       [1, 1],\n",
              "       [1, 0],\n",
              "       [0, 1],\n",
              "       [0, 1],\n",
              "       [0, 1],\n",
              "       [1, 0],\n",
              "       [1, 0],\n",
              "       [1, 1],\n",
              "       [1, 1],\n",
              "       [0, 1],\n",
              "       [1, 1],\n",
              "       [1, 1],\n",
              "       [0, 0],\n",
              "       [0, 0],\n",
              "       [1, 1],\n",
              "       [0, 0],\n",
              "       [0, 0],\n",
              "       [0, 1],\n",
              "       [1, 0],\n",
              "       [0, 0],\n",
              "       [1, 1],\n",
              "       [0, 0],\n",
              "       [0, 0],\n",
              "       [0, 1],\n",
              "       [0, 1],\n",
              "       [1, 0],\n",
              "       [0, 1],\n",
              "       [0, 1],\n",
              "       [1, 1],\n",
              "       [0, 1],\n",
              "       [1, 0],\n",
              "       [0, 0],\n",
              "       [0, 0],\n",
              "       [1, 1],\n",
              "       [0, 0],\n",
              "       [1, 1],\n",
              "       [1, 1],\n",
              "       [0, 1],\n",
              "       [0, 1],\n",
              "       [1, 0],\n",
              "       [1, 1],\n",
              "       [0, 1],\n",
              "       [0, 0],\n",
              "       [1, 1],\n",
              "       [1, 1],\n",
              "       [1, 0],\n",
              "       [1, 1],\n",
              "       [1, 0],\n",
              "       [0, 1],\n",
              "       [1, 1],\n",
              "       [1, 1],\n",
              "       [1, 0],\n",
              "       [1, 0],\n",
              "       [1, 1],\n",
              "       [1, 1],\n",
              "       [1, 1],\n",
              "       [1, 1],\n",
              "       [1, 1],\n",
              "       [1, 0]])>, policy_info=(), next_step_type=<tf.Tensor: shape=(64, 2), dtype=int32, numpy=\n",
              "array([[1, 1],\n",
              "       [1, 1],\n",
              "       [2, 0],\n",
              "       [1, 1],\n",
              "       [1, 1],\n",
              "       [1, 1],\n",
              "       [1, 1],\n",
              "       [1, 1],\n",
              "       [1, 1],\n",
              "       [1, 1],\n",
              "       [1, 1],\n",
              "       [1, 1],\n",
              "       [1, 1],\n",
              "       [1, 1],\n",
              "       [1, 1],\n",
              "       [1, 1],\n",
              "       [1, 1],\n",
              "       [0, 1],\n",
              "       [1, 1],\n",
              "       [1, 1],\n",
              "       [1, 1],\n",
              "       [0, 1],\n",
              "       [1, 1],\n",
              "       [1, 1],\n",
              "       [1, 1],\n",
              "       [1, 1],\n",
              "       [1, 1],\n",
              "       [1, 1],\n",
              "       [1, 1],\n",
              "       [2, 0],\n",
              "       [1, 1],\n",
              "       [1, 1],\n",
              "       [1, 1],\n",
              "       [1, 1],\n",
              "       [1, 1],\n",
              "       [1, 1],\n",
              "       [1, 1],\n",
              "       [1, 1],\n",
              "       [0, 1],\n",
              "       [2, 0],\n",
              "       [1, 1],\n",
              "       [1, 1],\n",
              "       [1, 1],\n",
              "       [1, 1],\n",
              "       [1, 1],\n",
              "       [1, 1],\n",
              "       [1, 1],\n",
              "       [1, 1],\n",
              "       [1, 1],\n",
              "       [1, 1],\n",
              "       [1, 1],\n",
              "       [1, 1],\n",
              "       [1, 1],\n",
              "       [2, 0],\n",
              "       [1, 1],\n",
              "       [2, 0],\n",
              "       [1, 1],\n",
              "       [1, 1],\n",
              "       [1, 1],\n",
              "       [1, 1],\n",
              "       [1, 1],\n",
              "       [1, 1],\n",
              "       [1, 1],\n",
              "       [1, 1]], dtype=int32)>, reward=<tf.Tensor: shape=(64, 2), dtype=float32, numpy=\n",
              "array([[1., 1.],\n",
              "       [1., 1.],\n",
              "       [1., 0.],\n",
              "       [1., 1.],\n",
              "       [1., 1.],\n",
              "       [1., 1.],\n",
              "       [1., 1.],\n",
              "       [1., 1.],\n",
              "       [1., 1.],\n",
              "       [1., 1.],\n",
              "       [1., 1.],\n",
              "       [1., 1.],\n",
              "       [1., 1.],\n",
              "       [1., 1.],\n",
              "       [1., 1.],\n",
              "       [1., 1.],\n",
              "       [1., 1.],\n",
              "       [0., 1.],\n",
              "       [1., 1.],\n",
              "       [1., 1.],\n",
              "       [1., 1.],\n",
              "       [0., 1.],\n",
              "       [1., 1.],\n",
              "       [1., 1.],\n",
              "       [1., 1.],\n",
              "       [1., 1.],\n",
              "       [1., 1.],\n",
              "       [1., 1.],\n",
              "       [1., 1.],\n",
              "       [1., 0.],\n",
              "       [1., 1.],\n",
              "       [1., 1.],\n",
              "       [1., 1.],\n",
              "       [1., 1.],\n",
              "       [1., 1.],\n",
              "       [1., 1.],\n",
              "       [1., 1.],\n",
              "       [1., 1.],\n",
              "       [0., 1.],\n",
              "       [1., 0.],\n",
              "       [1., 1.],\n",
              "       [1., 1.],\n",
              "       [1., 1.],\n",
              "       [1., 1.],\n",
              "       [1., 1.],\n",
              "       [1., 1.],\n",
              "       [1., 1.],\n",
              "       [1., 1.],\n",
              "       [1., 1.],\n",
              "       [1., 1.],\n",
              "       [1., 1.],\n",
              "       [1., 1.],\n",
              "       [1., 1.],\n",
              "       [1., 0.],\n",
              "       [1., 1.],\n",
              "       [1., 0.],\n",
              "       [1., 1.],\n",
              "       [1., 1.],\n",
              "       [1., 1.],\n",
              "       [1., 1.],\n",
              "       [1., 1.],\n",
              "       [1., 1.],\n",
              "       [1., 1.],\n",
              "       [1., 1.]], dtype=float32)>, discount=<tf.Tensor: shape=(64, 2), dtype=float32, numpy=\n",
              "array([[1., 1.],\n",
              "       [1., 1.],\n",
              "       [0., 1.],\n",
              "       [1., 1.],\n",
              "       [1., 1.],\n",
              "       [1., 1.],\n",
              "       [1., 1.],\n",
              "       [1., 1.],\n",
              "       [1., 1.],\n",
              "       [1., 1.],\n",
              "       [1., 1.],\n",
              "       [1., 1.],\n",
              "       [1., 1.],\n",
              "       [1., 1.],\n",
              "       [1., 1.],\n",
              "       [1., 1.],\n",
              "       [1., 1.],\n",
              "       [1., 1.],\n",
              "       [1., 1.],\n",
              "       [1., 1.],\n",
              "       [1., 1.],\n",
              "       [1., 1.],\n",
              "       [1., 1.],\n",
              "       [1., 1.],\n",
              "       [1., 1.],\n",
              "       [1., 1.],\n",
              "       [1., 1.],\n",
              "       [1., 1.],\n",
              "       [1., 1.],\n",
              "       [0., 1.],\n",
              "       [1., 1.],\n",
              "       [1., 1.],\n",
              "       [1., 1.],\n",
              "       [1., 1.],\n",
              "       [1., 1.],\n",
              "       [1., 1.],\n",
              "       [1., 1.],\n",
              "       [1., 1.],\n",
              "       [1., 1.],\n",
              "       [0., 1.],\n",
              "       [1., 1.],\n",
              "       [1., 1.],\n",
              "       [1., 1.],\n",
              "       [1., 1.],\n",
              "       [1., 1.],\n",
              "       [1., 1.],\n",
              "       [1., 1.],\n",
              "       [1., 1.],\n",
              "       [1., 1.],\n",
              "       [1., 1.],\n",
              "       [1., 1.],\n",
              "       [1., 1.],\n",
              "       [1., 1.],\n",
              "       [0., 1.],\n",
              "       [1., 1.],\n",
              "       [0., 1.],\n",
              "       [1., 1.],\n",
              "       [1., 1.],\n",
              "       [1., 1.],\n",
              "       [1., 1.],\n",
              "       [1., 1.],\n",
              "       [1., 1.],\n",
              "       [1., 1.],\n",
              "       [1., 1.]], dtype=float32)>),\n",
              " BufferInfo(ids=<tf.Tensor: shape=(64, 2), dtype=int64, numpy=\n",
              "array([[17, 18],\n",
              "       [91, 92],\n",
              "       [20, 21],\n",
              "       [88, 89],\n",
              "       [71, 72],\n",
              "       [14, 15],\n",
              "       [82, 83],\n",
              "       [59, 60],\n",
              "       [35, 36],\n",
              "       [13, 14],\n",
              "       [34, 35],\n",
              "       [12, 13],\n",
              "       [48, 49],\n",
              "       [ 9, 10],\n",
              "       [83, 84],\n",
              "       [14, 15],\n",
              "       [ 9, 10],\n",
              "       [42, 43],\n",
              "       [ 2,  3],\n",
              "       [49, 50],\n",
              "       [80, 81],\n",
              "       [42, 43],\n",
              "       [13, 14],\n",
              "       [91, 92],\n",
              "       [54, 55],\n",
              "       [46, 47],\n",
              "       [32, 33],\n",
              "       [51, 52],\n",
              "       [76, 77],\n",
              "       [20, 21],\n",
              "       [87, 88],\n",
              "       [ 8,  9],\n",
              "       [67, 68],\n",
              "       [ 0,  1],\n",
              "       [35, 36],\n",
              "       [91, 92],\n",
              "       [31, 32],\n",
              "       [51, 52],\n",
              "       [21, 22],\n",
              "       [78, 79],\n",
              "       [85, 86],\n",
              "       [44, 45],\n",
              "       [67, 68],\n",
              "       [24, 25],\n",
              "       [30, 31],\n",
              "       [38, 39],\n",
              "       [81, 82],\n",
              "       [66, 67],\n",
              "       [10, 11],\n",
              "       [49, 50],\n",
              "       [94, 95],\n",
              "       [71, 72],\n",
              "       [34, 35],\n",
              "       [20, 21],\n",
              "       [84, 85],\n",
              "       [63, 64],\n",
              "       [30, 31],\n",
              "       [34, 35],\n",
              "       [86, 87],\n",
              "       [48, 49],\n",
              "       [57, 58],\n",
              "       [11, 12],\n",
              "       [17, 18],\n",
              "       [34, 35]])>, probabilities=<tf.Tensor: shape=(64,), dtype=float32, numpy=\n",
              "array([0.01010101, 0.01010101, 0.01010101, 0.01010101, 0.01010101,\n",
              "       0.01010101, 0.01010101, 0.01010101, 0.01010101, 0.01010101,\n",
              "       0.01010101, 0.01010101, 0.01010101, 0.01010101, 0.01010101,\n",
              "       0.01010101, 0.01010101, 0.01010101, 0.01010101, 0.01010101,\n",
              "       0.01010101, 0.01010101, 0.01010101, 0.01010101, 0.01010101,\n",
              "       0.01010101, 0.01010101, 0.01010101, 0.01010101, 0.01010101,\n",
              "       0.01010101, 0.01010101, 0.01010101, 0.01010101, 0.01010101,\n",
              "       0.01010101, 0.01010101, 0.01010101, 0.01010101, 0.01010101,\n",
              "       0.01010101, 0.01010101, 0.01010101, 0.01010101, 0.01010101,\n",
              "       0.01010101, 0.01010101, 0.01010101, 0.01010101, 0.01010101,\n",
              "       0.01010101, 0.01010101, 0.01010101, 0.01010101, 0.01010101,\n",
              "       0.01010101, 0.01010101, 0.01010101, 0.01010101, 0.01010101,\n",
              "       0.01010101, 0.01010101, 0.01010101, 0.01010101], dtype=float32)>))"
            ]
          },
          "metadata": {
            "tags": []
          },
          "execution_count": 42
        }
      ]
    },
    {
      "cell_type": "markdown",
      "metadata": {
        "id": "GjWce0Dyev2V",
        "colab_type": "text"
      },
      "source": [
        "## Treinando o agente"
      ]
    },
    {
      "cell_type": "code",
      "metadata": {
        "id": "sR0MDfppeyBP",
        "colab_type": "code",
        "outputId": "7929aaf1-c37d-42f4-e214-5d8824ddc8e3",
        "colab": {
          "base_uri": "https://localhost:8080/",
          "height": 1000
        }
      },
      "source": [
        "# @test {\"skip\": true}\n",
        "try:\n",
        "  %%time\n",
        "except:\n",
        "  pass\n",
        "\n",
        "agent.train = common.function(agent.train)\n",
        "\n",
        "# Resetar o passo de treinamento\n",
        "agent.train_step_counter.assign(0)\n",
        "\n",
        "# Avaliar a política do agente uma vez antes do treinamento\n",
        "avg_return = compute_avg_return(eval_env, agent.policy, num_eval_episodes)\n",
        "returns = [avg_return]\n",
        "\n",
        "for _ in range(num_iterations):\n",
        "  \n",
        "  # Coletar alguns passos utilizando a collect_policy e armazenar no replay buffer\n",
        "  for _ in range(collect_steps_per_iteration):\n",
        "    collect_step(train_env, agent.collect_policy, replay_buffer)\n",
        "  \n",
        "  # Sortear alguns dados do buffer e atualizar a rede neural do agente\n",
        "  experience, unused_info = next(iterator)\n",
        "  train_loss = agent.train(experience).loss\n",
        "\n",
        "  step = agent.train_step_counter.numpy()\n",
        "\n",
        "  # Mostra o cálculo de loss a cada x passos\n",
        "  if step % log_interval == 0:\n",
        "    print('step = {0}: loss = {1}'.format(step, train_loss))\n",
        "\n",
        "  # Calcula, mostra e armazena o retorno médio a cada x passos\n",
        "  if step % eval_interval == 0:\n",
        "    avg_return = compute_avg_return(eval_env, agent.policy, num_eval_episodes)\n",
        "    print('step = {0}: Average Return = {1}'.format(step, avg_return))\n",
        "    returns.append(avg_return)\n",
        "  "
      ],
      "execution_count": 0,
      "outputs": [
        {
          "output_type": "stream",
          "text": [
            "CPU times: user 3 µs, sys: 1e+03 ns, total: 4 µs\n",
            "Wall time: 6.2 µs\n",
            "step = 200: loss = 9.83255386352539\n",
            "step = 400: loss = 19.306854248046875\n",
            "step = 600: loss = 32.17002868652344\n",
            "step = 800: loss = 20.706138610839844\n",
            "step = 1000: loss = 45.54364776611328\n",
            "step = 1000: Average Return = 32.400001525878906\n",
            "step = 1200: loss = 43.47307586669922\n",
            "step = 1400: loss = 94.03501892089844\n",
            "step = 1600: loss = 83.90321350097656\n",
            "step = 1800: loss = 65.61634063720703\n",
            "step = 2000: loss = 26.283414840698242\n",
            "step = 2000: Average Return = 40.5\n",
            "step = 2200: loss = 65.80423736572266\n",
            "step = 2400: loss = 61.624603271484375\n",
            "step = 2600: loss = 58.05156707763672\n",
            "step = 2800: loss = 30.068763732910156\n",
            "step = 3000: loss = 59.01948165893555\n",
            "step = 3000: Average Return = 84.5999984741211\n",
            "step = 3200: loss = 31.670650482177734\n",
            "step = 3400: loss = 78.6439208984375\n",
            "step = 3600: loss = 43.35778045654297\n",
            "step = 3800: loss = 142.87535095214844\n",
            "step = 4000: loss = 3.5113415718078613\n",
            "step = 4000: Average Return = 144.6999969482422\n",
            "step = 4200: loss = 112.06005859375\n",
            "step = 4400: loss = 8.705709457397461\n",
            "step = 4600: loss = 4.158430099487305\n",
            "step = 4800: loss = 42.47532653808594\n",
            "step = 5000: loss = 184.0147705078125\n",
            "step = 5000: Average Return = 111.4000015258789\n",
            "step = 5200: loss = 83.49259948730469\n",
            "step = 5400: loss = 9.084858894348145\n",
            "step = 5600: loss = 6.719217300415039\n",
            "step = 5800: loss = 127.34194946289062\n",
            "step = 6000: loss = 12.770973205566406\n",
            "step = 6000: Average Return = 98.19999694824219\n",
            "step = 6200: loss = 176.10691833496094\n",
            "step = 6400: loss = 5.594841957092285\n",
            "step = 6600: loss = 82.24069213867188\n",
            "step = 6800: loss = 212.40084838867188\n",
            "step = 7000: loss = 454.38433837890625\n",
            "step = 7000: Average Return = 200.0\n",
            "step = 7200: loss = 6.853304862976074\n",
            "step = 7400: loss = 23.835132598876953\n",
            "step = 7600: loss = 68.32263946533203\n",
            "step = 7800: loss = 8.168657302856445\n",
            "step = 8000: loss = 80.58788299560547\n",
            "step = 8000: Average Return = 200.0\n",
            "step = 8200: loss = 32.88544464111328\n",
            "step = 8400: loss = 192.01596069335938\n",
            "step = 8600: loss = 191.08316040039062\n",
            "step = 8800: loss = 383.8511657714844\n",
            "step = 9000: loss = 12.535735130310059\n",
            "step = 9000: Average Return = 200.0\n",
            "step = 9200: loss = 951.728759765625\n",
            "step = 9400: loss = 58.1060791015625\n",
            "step = 9600: loss = 13.28873062133789\n",
            "step = 9800: loss = 22.60103988647461\n",
            "step = 10000: loss = 22.29804801940918\n",
            "step = 10000: Average Return = 199.89999389648438\n",
            "step = 10200: loss = 662.418212890625\n",
            "step = 10400: loss = 24.184207916259766\n",
            "step = 10600: loss = 760.6499633789062\n",
            "step = 10800: loss = 24.334415435791016\n",
            "step = 11000: loss = 575.4365844726562\n",
            "step = 11000: Average Return = 200.0\n",
            "step = 11200: loss = 591.39013671875\n",
            "step = 11400: loss = 633.860595703125\n",
            "step = 11600: loss = 907.3649291992188\n",
            "step = 11800: loss = 27.3946475982666\n",
            "step = 12000: loss = 1950.4732666015625\n",
            "step = 12000: Average Return = 200.0\n",
            "step = 12200: loss = 47.183738708496094\n",
            "step = 12400: loss = 867.4639892578125\n",
            "step = 12600: loss = 46.573707580566406\n",
            "step = 12800: loss = 206.46365356445312\n",
            "step = 13000: loss = 49.15781021118164\n",
            "step = 13000: Average Return = 200.0\n",
            "step = 13200: loss = 976.6395874023438\n",
            "step = 13400: loss = 135.39500427246094\n",
            "step = 13600: loss = 1252.40625\n",
            "step = 13800: loss = 2547.053466796875\n",
            "step = 14000: loss = 2096.744873046875\n",
            "step = 14000: Average Return = 200.0\n",
            "step = 14200: loss = 54.53439712524414\n",
            "step = 14400: loss = 955.564697265625\n",
            "step = 14600: loss = 21.909700393676758\n",
            "step = 14800: loss = 949.72900390625\n",
            "step = 15000: loss = 1765.032470703125\n",
            "step = 15000: Average Return = 200.0\n",
            "step = 15200: loss = 32.359310150146484\n",
            "step = 15400: loss = 36.41249465942383\n",
            "step = 15600: loss = 92.93653869628906\n",
            "step = 15800: loss = 2022.724853515625\n",
            "step = 16000: loss = 51.592689514160156\n",
            "step = 16000: Average Return = 200.0\n",
            "step = 16200: loss = 55.12861633300781\n",
            "step = 16400: loss = 47.01177215576172\n",
            "step = 16600: loss = 215.52127075195312\n",
            "step = 16800: loss = 31.14869499206543\n",
            "step = 17000: loss = 85.64665985107422\n",
            "step = 17000: Average Return = 200.0\n",
            "step = 17200: loss = 2242.9287109375\n",
            "step = 17400: loss = 50.15824890136719\n",
            "step = 17600: loss = 68.29376220703125\n",
            "step = 17800: loss = 69.83149719238281\n",
            "step = 18000: loss = 43.04719543457031\n",
            "step = 18000: Average Return = 200.0\n",
            "step = 18200: loss = 150.13963317871094\n",
            "step = 18400: loss = 113.34194946289062\n",
            "step = 18600: loss = 61.50954818725586\n",
            "step = 18800: loss = 96.4732666015625\n",
            "step = 19000: loss = 72.39653778076172\n",
            "step = 19000: Average Return = 200.0\n",
            "step = 19200: loss = 3593.45068359375\n",
            "step = 19400: loss = 529.2138061523438\n",
            "step = 19600: loss = 819.5633544921875\n",
            "step = 19800: loss = 52.38983917236328\n",
            "step = 20000: loss = 106.54533386230469\n",
            "step = 20000: Average Return = 200.0\n"
          ],
          "name": "stdout"
        }
      ]
    },
    {
      "cell_type": "markdown",
      "metadata": {
        "id": "Inx-mMsFi_Bu",
        "colab_type": "text"
      },
      "source": [
        "## Visualização"
      ]
    },
    {
      "cell_type": "markdown",
      "metadata": {
        "id": "7sdWsctKjA0C",
        "colab_type": "text"
      },
      "source": [
        "### Plotar"
      ]
    },
    {
      "cell_type": "code",
      "metadata": {
        "id": "KGwxwm1ajB2q",
        "colab_type": "code",
        "outputId": "caf0f9c5-c1c7-40e2-ac03-3ff32264a84b",
        "colab": {
          "base_uri": "https://localhost:8080/",
          "height": 300
        }
      },
      "source": [
        "# @test {\"skip\": true}\n",
        "\n",
        "iterations = range(0, num_iterations + 1, eval_interval)\n",
        "plt.plot(iterations, returns)\n",
        "plt.ylabel('Average Return')\n",
        "plt.xlabel('Iterations')\n",
        "plt.ylim(top = 250)"
      ],
      "execution_count": 0,
      "outputs": [
        {
          "output_type": "execute_result",
          "data": {
            "text/plain": [
              "(6.590000200271605, 250)"
            ]
          },
          "metadata": {
            "tags": []
          },
          "execution_count": 46
        },
        {
          "output_type": "display_data",
          "data": {
            "image/png": "[encoded data removed]",
            "text/plain": [
              "<Figure size 432x288 with 1 Axes>"
            ]
          },
          "metadata": {
            "tags": []
          }
        }
      ]
    },
    {
      "cell_type": "markdown",
      "metadata": {
        "id": "IPFZAPmTjYWa",
        "colab_type": "text"
      },
      "source": [
        "### Vídeo"
      ]
    },
    {
      "cell_type": "markdown",
      "metadata": {
        "id": "3kuoE6gTlP3f",
        "colab_type": "text"
      },
      "source": [
        "### Função para criar vídeos no colab"
      ]
    },
    {
      "cell_type": "code",
      "metadata": {
        "id": "TCDJBIeVjZf4",
        "colab_type": "code",
        "colab": {}
      },
      "source": [
        "def embed_mp4(filename):\n",
        "  \"\"\"Mostra um arquivo mp4 no notebook\"\"\"\n",
        "  video = open(filename,'rb').read()\n",
        "  b64 = base64.b64encode(video)\n",
        "  tag = '''<video width = \"640\" height = \"480\" controls>\n",
        "            <source src = \"data:video/mp4;base64,{0}\" type = \"video/mp4\">\n",
        "            Your browser does not support the video tag.\n",
        "        </video>'''.format(b64.decode())\n",
        "\n",
        "  return IPython.display.HTML(tag)s"
      ],
      "execution_count": 0,
      "outputs": []
    },
    {
      "cell_type": "markdown",
      "metadata": {
        "id": "ZzPCFN6alVmV",
        "colab_type": "text"
      },
      "source": [
        "### Iterar alguns episódios do ambiente com o agente treinado e juntar as imagens para formar o vídeo"
      ]
    },
    {
      "cell_type": "code",
      "metadata": {
        "id": "nk79FWcVlMFY",
        "colab_type": "code",
        "outputId": "c4409966-fa0b-4936-fb9a-152444206133",
        "colab": {
          "base_uri": "https://localhost:8080/",
          "height": 538
        }
      },
      "source": [
        "def create_policy_eval_video(policy, filename, num_episodes = 5, fps = 30):\n",
        "  filename = filename + \".mp4\"\n",
        "  with imageio.get_writer(filename, fps=fps) as video:\n",
        "    for _ in range(num_episodes):\n",
        "      time_step = eval_env.reset()\n",
        "      video.append_data(eval_py_env.render())\n",
        "      while not time_step.is_last():\n",
        "        action_step = policy.action(time_step)\n",
        "        time_step = eval_env.step(action_step.action)\n",
        "        video.append_data(eval_py_env.render())\n",
        "  return embed_mp4(filename)\n",
        "\n",
        "create_policy_eval_video(agent.policy, \"trained_agent\")"
      ],
      "execution_count": 0,
      "outputs": [
        {
          "output_type": "stream",
          "text": [
            "WARNING:root:IMAGEIO FFMPEG_WRITER WARNING: input image is not divisible by macro_block_size=16, resizing from (400, 600) to (400, 608) to ensure video compatibility with most codecs and players. To prevent resizing, make your input image divisible by the macro_block_size or set the macro_block_size to None (risking incompatibility). You may also see a FFMPEG warning concerning speedloss due to data not being aligned.\n"
          ],
          "name": "stderr"
        },
        {
          "output_type": "execute_result",
          "data": {
            "text/html": [
              "<video width = \"640\" height = \"480\" controls>\n",
              "            <source src = \"data:video/mp4;base64,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\" type = \"video/mp4\">\n",
              "            Your browser does not support the video tag.\n",
              "        </video>"
            ],
            "text/plain": [
              "<IPython.core.display.HTML object>"
            ]
          },
          "metadata": {
            "tags": []
          },
          "execution_count": 50
        }
      ]
    },
    {
      "cell_type": "markdown",
      "metadata": {
        "id": "Xub47Hz8nHmJ",
        "colab_type": "text"
      },
      "source": [
        "### Visualizar um vídeo do agente com uma política aleatória para comparação"
      ]
    },
    {
      "cell_type": "code",
      "metadata": {
        "id": "mbZFrcov0uNx",
        "colab_type": "code",
        "outputId": "c9cf4620-feaf-4e8f-e841-41f1e4b22c75",
        "colab": {
          "base_uri": "https://localhost:8080/",
          "height": 122
        }
      },
      "source": [
        "from google.colab import drive\n",
        "drive.mount('/content/drive')"
      ],
      "execution_count": 0,
      "outputs": [
        {
          "output_type": "stream",
          "text": [
            "Go to this URL in a browser: https://accounts.google.com/o/oauth2/auth?client_id=947318989803-6bn6qk8qdgf4n4g3pfee6491hc0brc4i.apps.googleusercontent.com&redirect_uri=urn%3aietf%3awg%3aoauth%3a2.0%3aoob&response_type=code&scope=email%20https%3a%2f%2fwww.googleapis.com%2fauth%2fdocs.test%20https%3a%2f%2fwww.googleapis.com%2fauth%2fdrive%20https%3a%2f%2fwww.googleapis.com%2fauth%2fdrive.photos.readonly%20https%3a%2f%2fwww.googleapis.com%2fauth%2fpeopleapi.readonly\n",
            "\n",
            "Enter your authorization code:\n",
            "··········\n",
            "Mounted at /content/drive\n"
          ],
          "name": "stdout"
        }
      ]
    },
    {
      "cell_type": "code",
      "metadata": {
        "id": "z_J4gfftnG9c",
        "colab_type": "code",
        "outputId": "1aa07183-6125-4085-8003-2ffb7fdbfae5",
        "colab": {
          "base_uri": "https://localhost:8080/",
          "height": 538
        }
      },
      "source": [
        "create_policy_eval_video(random_policy, \"random_agent\")"
      ],
      "execution_count": 0,
      "outputs": [
        {
          "output_type": "stream",
          "text": [
            "WARNING:root:IMAGEIO FFMPEG_WRITER WARNING: input image is not divisible by macro_block_size=16, resizing from (400, 600) to (400, 608) to ensure video compatibility with most codecs and players. To prevent resizing, make your input image divisible by the macro_block_size or set the macro_block_size to None (risking incompatibility). You may also see a FFMPEG warning concerning speedloss due to data not being aligned.\n"
          ],
          "name": "stderr"
        },
        {
          "output_type": "execute_result",
          "data": {
            "text/html": [
              "<video width = \"640\" height = \"480\" controls>\n",
              "            <source src = \"data:video/mp4;base64,AAAAIGZ0eXBpc29tAAACAGlzb21pc28yYXZjMW1wNDEAAAAIZnJlZQAALnBtZGF0AAACrgYF//+q3EXpvebZSLeWLNgg2SPu73gyNjQgLSBjb3JlIDE1MiByMjg1NCBlOWE1OTAzIC0gSC4yNjQvTVBFRy00IEFWQyBjb2RlYyAtIENvcHlsZWZ0IDIwMDMtMjAxNyAtIGh0dHA6Ly93d3cudmlkZW9sYW4ub3JnL3gyNjQuaHRtbCAtIG9wdGlvbnM6IGNhYmFjPTEgcmVmPTMgZGVibG9jaz0xOjA6MCBhbmFseXNlPTB4MzoweDExMyBtZT1oZXggc3VibWU9NyBwc3k9MSBwc3lfcmQ9MS4wMDowLjAwIG1peGVkX3JlZj0xIG1lX3JhbmdlPTE2IGNocm9tYV9tZT0xIHRyZWxsaXM9MSA4eDhkY3Q9MSBjcW09MCBkZWFkem9uZT0yMSwxMSBmYXN0X3Bza2lwPTEgY2hyb21hX3FwX29mZnNldD0tMiB0aHJlYWRzPTMgbG9va2FoZWFkX3RocmVhZHM9MSBzbGljZWRfdGhyZWFkcz0wIG5yPTAgZGVjaW1hdGU9MSBpbnRlcmxhY2VkPTAgYmx1cmF5X2NvbXBhdD0wIGNvbnN0cmFpbmVkX2ludHJhPTAgYmZyYW1lcz0zIGJfcHlyYW1pZD0yIGJfYWRhcHQ9MSBiX2JpYXM9MCBkaXJlY3Q9MSB3ZWlnaHRiPTEgb3Blbl9nb3A9MCB3ZWlnaHRwPTIga2V5aW50PTI1MCBrZXlpbnRfbWluPTI1IHNjZW5lY3V0PTQwIGludHJhX3JlZnJlc2g9MCByY19sb29rYWhlYWQ9NDAgcmM9Y3JmIG1idHJlZT0xIGNyZj0yNS4wIHFjb21wPTAuNjAgcXBtaW49MCBxcG1heD02OSBxcHN0ZXA9NCBpcF9yYXRpbz0xLjQwIGFxPTE6MS4wMACAAAAB+GWIhAA3//72rvzLK0cLlS4dWXuzUfLoSXL9iDB9aAAAAwAAAwAAJuKiZ0WFMeJsgAAALmAIWElDyDzETFWKgSvGXwTjAgATkm/qhXtXeuUIMwMnEmKiVhAT564isCqRynh4hNyK/mDhl7673YqptO0fC75BVXNF6aViWY/BTXzWCleIh7TuzvfvdwGBiPD/D/dKfX4O/TU5L/AjbmEDFDcopEHVad8CKlxeOxaWwMZ5hBwhgAaQy6eUskjVzFwvtt2nQvNRLJK1Ut0qvfG/ATeoAAdKzkgSkYKtXqicZZwkvxlmlCkc+8U6EIEtz9fyK2p6PcWv4UQAA683z/CjAvAefooGYyC1nzqdcKLtTjJEcAjJrYzkS6uczwo97/FauSGKu3Z9SzHPl5RKBklbxMRt5YEqQAhxCGeMkfhpSJsoq1xxXSsFIq40iASyyhzump6okRnqYVpPEMnmksGbmPVK+0Lzvyxuo1EzFNY1dIio4Vv6Yya28VBC9LUTSc29wPmVVmKv/w2yi/BGdd6akm20OuoyoxUywS4ZDB7ZaHjb1zuV60m3fQO29zo6A7XceJMXK0+ogABBG7Qa7KQcmcwbd0rTPshOHdQMTWkZ4FMWckBLa51FFPfi9WlFowmSfzPMhlhP8L6Cyyy9rVovAAADAAADAAAT0QAAAMJBmiJsQ3/+jLAAAEYSqcAmvqUJlD8jCC9V93Cn3HqSVnBvCAC8eZEdDi45t22CCjoT2MTu1vYsA7psU+Whl23IabOqXmo80hlvXSywkAnf8a/+7e5sO6r52pRr1GNIiB/p8q/E7xsPXgaznDBLKnIB4B3I+60rYGmf/tGoRTAV1jxp2POgHq4xtOpF2NFMntieMi6JOaV1D1kS1temXVZ0GIQUtg9USxtPXYAj9NoAAAMAH51Rj83MKlb3gCyfAWP50AAAACsBnkF5Cf8AACPDPCt5F7ZBxLyMAJhL56IWD2XJjIYSYAAAAwBgtYtkQEnBAAAAm0GaRjwhkymEN//+jLAAAEXylMELgBtR0CQhct1T/1j/jRFvsB8JrfnDqn2Cqel+9nBTlK6Eqfaw/1HRRqv/fcZI7B+ZD0wVzxQvueeyafCCwTMDZo8Rofy8VzUfbgEwUVIUzeZ+AdTOlTCc89/muKW3dg7wUikGsDeFjkgPQBaDAal82xY+p7oysBdz6CimRdzJAMHijEoTHoTjAAAAPEGeZGpTwr8AABa1Kzi3x2w5GfoqGYzXJiz+Tu8Ai5Tro+uojy+2ACcOmt/abwqj41GwMu9nSIWWpl8TFwAAAC8BnoN0Qn8AACOr+F9VbZ8L1r1dzwR4Shv9Q579v9EshP0sg0VT3eu6ANcGYRCTUwAAAB4BnoVqQn8AAA2ElSz3ElpmrhWUx8oPqF7GGjWgXcEAAABiQZqKSahBaJlMCG///oywAABD/K0zAGyINhyz6Mprb4Dx2jGNzZy//G4ENzNRJENHDzaeHfIftfUVHlWpzjbdb1Xb20fYGCpITTsB/xdfV1dBWRmV9seoJsF8b5Czn5tk+4EAAAAwQZ6oRREsK/8AABYsULbzFWkkzAg5NheHVfDqS/mBNFgQOXVbuQEk+GH2hjeFYLuAAAAAJAGex3RCfwAADSTPqtvR7cUof+ZXnSbtoS519fr4wGe7GGIccAAAACUBnslqQn8AACK/H4kuYtcm6DsG73ZE3X4DLeaI4f4DftQM7wXdAAAAZkGazkmoQWyZTAhv//6MsAAARimn6BCe+9ZSPJr4Attpc57YWzlCZcesL/QAE5BGtyUHKBMirV3Pipbsuy+hTQhyHR775jUDQ1DMVbOENnI4/kddkrDReGkxVRY8gvVAkf2BI5aWJAAAADRBnuxFFSwr/wAAFm9jFgqiG+hLQWc8ceBDDFqWvMSRWL/QMkxcAJkf/2gKujggmJyowmLAAAAAJQGfC3RCfwAAI6v4XXkB+GuWo9BgMHzwxuRqSy1EGU86wudwu4EAAAAwAZ8NakJ/AAAjkdWAHWoYeFt/YGpoH48vKCc8Ti2KGEgUBVBcNF4oKCGFkkyv1TUxAAAAVkGbEkmoQWyZTAhv//6MsAAARiW8RbRXfPHwBoj58JRD3bqzrZwTt4vUkKO+s7VoS10xTUJkRgENCavbYe8hnAMrvrCSWOKnNXaK/nwX63nyAo45CLmpAAAAM0GfMEUVLCv/AAAWs0gDozC7MoaGNcLGmu+G71DO9mnBlDpKDmcFY0n7uKrvGNWJW/n/8AAAAC8Bn090Qn8AACOsPm6WgYEc7AOezF8Pz5Jpvyy/sYxQW1tJuSJ3iRffEky0nZ2JiwAAACUBn1FqQn8AACPHK7oCcjtz9OklTco+vjrF8K0BYF2xLriLhsF5AAAAu0GbVkmoQWyZTAhv//6MsAAARjSp93RABfjCgn4Y0AMpRNv6wiYykEc1046qXVL118+HpEpvFIwExREAFdTkEaOhibpdGhf0enMMhRaTeoXzyGuyyrhWQOEptLXAytCBYW1lwD+66iqjhiDx4WOokTZA+B/6N0aGUZnKtV1Fi/WH1jFIdgxSiGW/n2/GnIf63fBlF+YNRv/x7Tfjx4b+doZMi4RQUSxklV2ji/C+fSXbwa16kPA8cBkVYcgAAAA6QZ90RRUsK/8AABaqdXZm0fSm81AummNJYAE7dRVVRSHRQT6sPBw4J2WUAvyaB4oodIIPNn7RfET2YAAAADQBn5N0Qn8AACPDQle6RbADoAWrB0jdr5ks27mKzWxDdUpkAM9aZkvtQHXGIXQ19Gr4zLErAAAAIwGflWpCfwAAI78EK/ql6e7BYsxOpf7xffEjf4PGqirnB22YAAAAvkGbmkmoQWyZTAhv//6MsAAARgLQ6jg9HKlxf0EbBnpBV8859SjxAlMiE3zGGUBTehtS4FBb0g2FefSX7LzXBg4vgaRhZPZ5VVOIrdNJI4lIfh9w85gVd0XkvqLPWnGk2nTTOBvmwIlvwRYP23fw/THpaVZtCz0LQW7HXUF8P1U7yoiINAzFifNlUxttdI233AMuRhDbfAb2h7S+guwZjhg703egswAjKGWhHULCjWV+Tx8hoOxj9t0DUcUcdSkAAAA9QZ+4RRUsK/8AABa1KzdrbU1vhGSd90kAJk6ax6mYphlfR5z5gN2ea+5CsjzmBM+MtwesEqCzQoz40sv7MQAAAEIBn9d0Qn8AACPDF2kyHAArOCEwmhKLoWhUKOmDHBh8U5vQxvUV+6QenoTX0DHWqNIjsLqyA7OVTjzO+/nz47EmIOAAAAAkAZ/ZakJ/AAAFHzR++MzoXDnjAs/RJswK9Y4viWxBDyd5pniNAAAA9kGb3kmoQWyZTAhv//6MsAAARiXwpsO4ArVCRsfaARtmFCATlOJkDhozeJExfRPi0yHySSdV2UY5z+lFTjF96iIeMNHtceqpe+1jfLKo2LreQkYCDgxiaF/cSVMUtx7kAzAxF6tCg1hIe3aLtHz2u8j/0i4vgi/U/2Qnb2nKarcgFyFrPsn2lfGyhzo3rfCaSiE0yaBxZ0nxzvq/LLqTRI9HSdx310lfIaI3WZWqokn5in8JNlReL0XolqHZPM8D6xwPcyhPWvViNLp2R0lJ8UJ2q6424mrRLxeifKj6CV2RW+8/tI3BkFikKmMH5MX/mVZhKB0TYAAAAGxBn/xFFSwr/wAAFpyfQTguRkwsglHXLVSY3eH0OeHmgASLjB4tl1dKtQN2Z9ma6NUyQaN82Ap6Fb3AAygKamqr7sMUMkzZX65aiwPz8Yo0PSICJY5PlGew/uu/gzHo9WlCN5aSqF+Oy2S4kn0AAABAAZ4bdEJ/AAAN1e7wIe0tT4uRsbQAXUD28FAh8BIRLpJfrtknnCKozftuwzUZi9X0t6pcxl6QVTvl+T0Knsne7wAAAEIBnh1qQn8AACLHMseskrepj9muT0xipzSBTAP77bExEGKLltSK18xnfZGnbT6Az5p8g96ogiXi1iRT9IVXlHN47UgAAADfQZoCSahBbJlMCG///oywAABGEH/DdxgBzcJYTu4efbDX7nZ15eTnAUqxeT2f+JxnWV21rX/va+yV7x/wioeym/pztPGwvXGMWkEM/7H9ssCilvUYngOW0Fsr75BMCbyRqwvE2zuA8u3yP+iorsWGdpCWO6zahoCzeyaUudNZqlffbZQwPDIJfwr/pM1paMO8aIYoso5lUHA+zSLzZOeNdSzBpvCEwItP1v/HoYtIxgseuRRDTsI3rwsEAZpQZGVfcIqCl/k2gSATBiHfQK4mhj+j/4thLsJOFI038ujfQAAAAIRBniBFFSwr/wAAFnFTpMWAAIhvflLuKK3ud0tyBOrn2wH5ZNYzng+/yr3uIAsD9bnUp7KZTEU/4OAIfwwh0RLiVbdRqgU2AMrOSjdsl/Ts+fTDBrWXagXUadPS099gQas8Uaw35hvMYUtJVEh9lGGukhZF4vyb6wDO0Ccxcyp3OzR434EAAABIAZ5fdEJ/AAAirEJXCkYXtduwP3yom+BMeAVDGQ+0IIxZYPTm+B605MRJwayiRsE/8ztXeyzVhnRhHWJi0yNSNUmZQp4kkZbQAAAARQGeQWpCfwAAIr2WnVT23xIKwViUdY2rOnG+omJfrQ3SCzVaDytasMDo9EnszVcCzJ4qQZRq+T0n0zzlylvbN53g0iGJwQAAAMxBmkZJqEFsmUwIb//+jLAAAEYUOq7vQBy2USWvjY1nYcbO0TUrREyhBCeBoffMvAOMw0v2khHvXvA+nHg6R5wRNcPYe1uXHCteeNmZf7KJYnUwD9wz3zYeG8uYo3anNSv/XEtbwOBkmRqNpVphB8peIFfFd4w5fT1JedO8pLbhViwA/06X7uZkFiNGlvFf2SiXhBP4EfYJyjrSB0EOKl6puVWvUI+XvDgl1kRa3F4kDCsu3ULvuyLHT6zyuN+bD6goxEb7MvA+tHZSsfAAAACUQZ5kRRUsK/8AABbALXjDEJxZ7z26+Iq3B9nVS+jOWgx24CzNi/Cx04AbmZBKb4m0xCT02qG50uTqJ1J0LJF1Bc1h8tq4jc7RUovme+ozkeAmQKf1lMkLBcXHMNKVugCNBahAddwalI198M7LnSg7BK7GjFdX3bAHojIR+tvyDbxLjx4/qDUBpr55TbinIAS1cqJqwQAAAEUBnoN0Qn8AACOjaiGBfwPGZZ9q0MPzJ+b0cy8g9o4TNgbXgQHCiQpOB9Xaz/LXqenM3balseGuqkhUx9Eyc/JTFYtgdZ8AAABmAZ6FakJ/AAAjxt0GPqgILmDyNwALn1buwQcMf+Tfn+L9acbdQ6JaueQ6b1nXu/4sttYwkJSLZ0vC65UgccuZRu273xwpf8u0Ob97hRCyArm21YnCo89djv3kk6mofksrTcKMvc6pAAAAZkGaikmoQWyZTAhv//6MsAAARge5AA4tcvLWK59UDg765TUNAmA0pDAqywuoUCAgUfn9ykAc8CXq5hI5nqPbv3MoDxgCp7YgTbw5fqhAoKS5ig+obbxMKOhL6ZJbEmZQRdPibSn64QAAADJBnqhFFSwr/wAAFrxOGu5g50ygA+/dEN77syNAkzUPgU8tLFtytx3T+7mauthsSDIfkAAAAB4Bnsd0Qn8AAA1+EkoREDBdhcJ+BmT5JGVNVA/mHTAAAAAsAZ7JakJ/AAAjvxxUTQeJoB6GAC6Zs0weiyXMh1Gk8Nac6SckQcWPDIuu2BEAAADDQZrOSahBbJlMCG///oywAABGEL1EYAOKUpNtg6PHdSPXtqf+en/KTmewPXwa54CKg+L72F3qX8OJas/ncGzIBDe/6zU6KaG+cMFVu96eKSm/ApQJ5s4CpcAnUNp9aIs6B0exzjL66x3rxOYOwYUlMXVUinQ6FdkhQ16K7HyTYsyNB5QZ9B3kY+0TxAEKqiZhxRivJwE7jn02RQmUCJQK9Lcwrh3+wvTHAZ/CSNZV3aESnbfkv7GnwTu8a8slv2XsLSFAAAAAOUGe7EUVLCv/AAAWwFaQtEdyy+QEcTex3LAPxm+G4JMr8BOUcLr1TsKgeHqRYb38gexbTDvWxZ3bWwAAACkBnwt0Qn8AACPDPg+EXROU4Ik9YbQAXExiwzhC347m6/AoK3u672ZDwQAAAC0Bnw1qQn8AACO/Gm7MxgUqipGhJfckR7FhdsOcE+MwQ4pfXMUD/jih1SliWkEAAAD3QZsSSahBbJlMCG///oywAABIAUUluYi9PqrwqkUD+OAEtlO1uM4aRgdokowCFdXagpazyhwsykzCq3F2xDuECyxnhvatKqxl1THW5Q35iwUSPaxXxVC3wq0XVrP4ISAO9KTbJlXORXTl4s6Qw35cR7LkrdZEe3oF7zWUEc33tGR402ECYRYYchAsSXsP6YuLIak7szaJA/8Fkiil10fXGm7S7UoQYi+LCXzj0SmVaBgEZc/rTI2sl8B1F4mqBTRJSf/ap58FtnHvSF7iKNpUDgNQMQbf3iosFljzkB2T0tH06ODniHASVNjPcFH6yUbjjbloVc/9CwAAAGJBnzBFFSwr/wAAF0wzvH2FMgr30mAgAudO44vMnZ9/yz9vryZucSFRrTJ7GVT9qxF11Kj/bVjxv+RC35Rie2Hy3ucW6R+UxMph1dCo7Py/0B+z3//c1rs9RXE9Ry8TMO18ygAAAFABn090Qn8AACPAmpDGSXSVvzvgrA9TSg8OaQALpze/S5dBILPYI52Q1yU8F74Rsh1aGySDVQpQ1jpg+of18ctzzXCI9KmJ7wVtL7ZdDrbkqAAAAFEBn1FqQn8AACSuhP/xnJl+HQcysNq2Z7Vr4mtGDVl81B95u69x3ZmbydzeD3TuZN81lszSh9136Get2N1KeFAivABN/qOc5z9q0fK2H/KlHm8AAACrQZtWSahBbJlMCG///oywAABIfiXthdjrQp0qjACwSXf5avfWXu+qSpuTl3ggEpDG0N3AkGXxAQ/Om2xED/yM8wmwXiuGYyg1DbR58XCPaiv10iBsR5ubG0z2hQ2RthDqCeV/cP9QZLYootgyioV7sK3an/Qiw+U1054HtIW0q5i8jTNafEdF62Fo+Dy3wEYdvtKieoR7yFDUy4LL/0LtjPObwylU6kvN+JpIAAAArEGfdEUVLCv/AAAXS5KRj7vlwz8s7gHQotIrEpGSQA3XUpyBwSsc6tLSANCyOYZNoDMxRxml58EB84zMPtO07BKRz9EdHNyL/6FYn1FQIopYiSGcPmDOy9md3jRErl7D1d7aZSoegOtea8WfTsK7MyW7njHICBpGpqJmRgaeqJrtFY64ejT+CmUzTyPk+AX5Fsj9WFrDWNg4eP4G2q1xQkejSwEfaR6im7jyccAAAABiAZ+TdEJ/AAAkq9dh7AEEvWpmg66eRza7wNdYwbQvS68p7cfQMxE768hriz4LBzdrzLPO/3J2hzWoJXnPGiVTui1uVPlWkcynjBQWLyVESdTCZGGABrW5BXinavLQ8WMMdbEAAABbAZ+VakJ/AAAksb3eH6ou+17Ulpc5/uLOtLXTxlvqGXetAl8V/XHxgeU3s/WXTYcbSm1mCWKBaXm8QAnbsOHOxglSq9sskvq/c8A1ucv8jgpajdE7PSU3Yhoa7gAAAFFBm5pJqEFsmUwIb//+jLAAAEQl4ffgt6vGlPRUCMSg3vGDwHrz/C36tm3b3GNShkU6YPb0be2ZdO6p0qJDRh5rbz0ol6L+ECFP3GJGsbaA9oEAAAAzQZ+4RRUsK/8AABYlWwKWSVvsTYfLYQAtlxXp3JBsSa2lM98ML2V8k0Oz25aN+GWk8oOBAAAAHQGf13RCfwAAAwHlh9pndzZ8xkmq70VS8kjU3844AAAAKgGf2WpCfwAAAwAaX202i6v5gAENZ+TslD2Rshn9W3w8Dw6RFNVq8PfNwQAAAINBm9xJqEFsmUwUTDf//oywAABGDmarx9YjqmoARIaUJfN82ykd5SB/QYe02lQ4ApACnky54+fVy77eIRDWqlu7LRFd7jdAe19WoxysvnvpRUSgZCJOKpZ+QhaIAM4iya+n7VR771ISugQipecDns9M3/j/b7C2N8L0L/eeqhd1oBVhMAAAACMBn/tqQn8AACO/BCxc6D+R+NL2wfSWY0mVackl/xl8HOsC9wAAANNBm+BJ4QpSZTAhv/6MsAAARhDAk0BJ6SIArHutZ3UAM5bcYfAYuF/cw7Qg/iubdttoV6XMCK119C/4eIQiJ37LAQncvWa4hkNS1/JFRksATKc/N2Uh6FmgWz8elhpMwPBH8Ugq18Hf1xoxYmRmV9T1DpxRGuJhdveZZFALyJygmZynS0jMwNVL+UbhjTB3JELutFDsmU2nKgr35IQRSMclw+U5CibGRkU7EzJ4kx2NSajNuaq+9E3op3rR7DjHZabBozZ05jg9ButOxBUkhqKv3SjVAAAAR0GeHkU0TCv/AAAWvDO+QnbFTE80FKD+JACumBakGzz1A5cj7D30xLxLintrfVK3Tbi33Sln7wp9E/twZSowE1UftXZW2wtoAAAAMwGePXRCfwAABRzyQJSSAUOCfePdcYSqCqxPAAvTRh3vEZy96BRw8aUK5p2OMLLqNkpLjgAAAFABnj9qQn8AACO9g9GpABum7POAhjbhaDs5H2VrA7SsU/9uzCTqQ6cLbnyNpwORVz9RhbH+fTDylHNM6iECpbiTG3fD9xPPjUkCHya5VQCpiwAAANtBmiRJqEFomUwIb//+jLAAAEYOaN3ADc1eUNOj4qmaHrbDlW0KCdQSW9S7+VKfA2wfLF/Q7tlnpn3y8LNbLHFyNS5azlFdEMKnVm6U4N23RHaAe2El/2t6CyyJ9Z9QvYfcg/CmqM88M1yfplKCMTp8qli6of5UUeAuPsjDKFMyqQ3ePm7taJGaJPpTbaQkGrSeNswsnVmPzNrIRaclplJuf/gHQOlOMuFLacBX5XADpCDz5ZwpJbVE8NEC4GExNV84IMyG638O72QPZPHKEpJce7BFiwxUZbd00XgAAAB3QZ5CRREsK/8AABbAMVSiUALDqSy9uxUuVA8x0FP+ZZrfS1qc1ZqDnrT38uL63ZpsgTHtJFdgK9X8clmL1BDpcRBdJrKFujeLv4yOPAreRvtNFMLOczMTfKv9DSkdL6uEHwKO+8K2RIaGkkqoH9ji8+azSlth5i8AAABQAZ5hdEJ/AAAjvlJUrR6KVQAW8Stct+Uy/Ke1xmS8FXUZ6yopk9oIm1HxQzpkwLnoqHnUlx40DNKbyd58pyj8Vvtr8uiispe7k5B1qbzfa2gAAABWAZ5jakJ/AAAjxwqWF4Cm4hHvfDeDZxamHxZV4B409RI7N0fOvu2pPOFU3b0qlh0fOg2B1AA2RdwGiwxe++6hnQmyDSJ/f4ZGL25OPm5zYrIimPXyraEAAAEAQZpoSahBbJlMCG///oywAABGVhllg/KN1G7UYAWChEUZlX+P/dz5DeVkWEkObS7sSe/MXI9x+qgOCRE9j7b0YdK89dCZmw1ULJx8aFf30NxJxH7qpSNvuPMn0Nj0AJCY56pDptD84MjJsPh7KRE00lpgP6lRYKXEgIvm2OfEaJQUGpUi+FMtOEatQ4ZZL870/0m2kPEBJEcETOnXYbyfJVq6HsEB83vN3a6LqBRkuO6vfO2KYU2YXXdzCumy/k8/5vlmJQkVIIgHeQsCNHcavD5j9LJJcWpQlWyCUU/xlr0MDl9ib/U9KW3GbjmelXyZkR7p5nnzs4gRLVId/mE4fQAAAKFBnoZFFSwr/wAAFr8HGNcrYKVJWO3+IbgBNGztQcubTCB6ayxzCJNiNxpcWrx724HTVR30Yz95HSgWPIPzLbMIN8wOyyqq2t0L2S33XWxEHN91LTMOLIQtcwqBC6uAWP20K49mWAqR45gyboB+e+R8q+2BqflozyL7GqCqyv8DmEcYt82R+lv6kwShVD1Our4BO/xu/dlnfOs2JIMO6qYOaQAAAFEBnqV0Qn8AACOpnwu0j+b9I0ngdb5RhmgHVxO3i3XIsLdwhT32G/Qt9dAGrPAhThp1H5Z9/DjxMyqNMMdGKe4BG8CrGhnp3PoJs3nx875rF3EAAAAsAZ6nakJ/AAAjscwNXizw3eUhjCIjJTohnBh/vTXscwwP9QdPPZ+XhkF32S8AAAC+QZqsSahBbJlMCGf//jhAAAEM84eFJ14AWAoKTMtokpzALHPnIzrNEVfcMXkUzIxlXytWfOS4RSbIutjH52+V7KVP39fGn/3XHnMB1hdPCtVjW7xNPrBt28L2zPbFYCLV4yzjKxuZBOl8N1DSyjZDgdUWEKrrqtv1+dHRBa3S7eZ4kGJ8wxfA7c2UWb19zm7wLF3oO03aB8WRg2Oz331Nw94r6tWz63OhE0pGt+swZGQWlBGK8Q60YOGbzkKVpgAAAFhBnspFFSwr/wAAFrUO8m8p6IcjGrbvr0Gzp5Weom/ZaVH58LmPT0853wbIsNTRxRtcAJ26lrYUnbFHFEkLvGsuo7DcBwVcmjvNZ4I/ZMNpg+6asn+x8DuhAAAAQQGe6XRCfwAAI6nkr47niBWs3swnihFm4pvzSg2ABdABojBNGTwpXpSpsnpcSoq4Dxus2OhqijERlLAWRoxArTx8AAAAQAGe62pCfwAAImO+x9pBHpWQyYYFZCVeSDSTJjnu2zTQlaV9G/zWQobJhBqjiXT8G/blylmNFEEbrOwcFfiFjegAAAB2QZrtSahBbJlMCG///oywAABEAvgA9YNecFSSC0jpZSYNlERl9mNXDRN2zIMAjuFa0WMRUBLSgsrUX+mbayB8SVn8PWUkXHCGN5qYiC8YHlYOtE6wZA89J7BeUDBEf4m99vZVJDPCOy/VbDIUIHr3FUpGnVyXgQAAAP1BmxFJ4QpSZTAhn/44QAABBPNInywAsOLPdpKIMphRxtt9x6zziEaKx9SCJ8UnbwACofiybxZm7Cjz0pSvKwIONW5lrl5V+YQ8lDFcA53q8rfws8uH/h7NyaVQFTnk/cSAqIVsMAuL6cwr1X660BSbYcksP0R41r6K57xCvPkCe7FUZLu77L0vK+6AvCpcVLwEtYoTa35h1tIZ6dAkpbl2/KO+e/imi0PO267pKT9zleJSuZLqvpufnSma+/0BYMZ5KuEt1MXPsiOE93y83CpAsDn5ucciLMI9MQqq42FGDOVq61Oqbr2XV1V/FPEJVmKn2Pp4iV11RUmO98eBAAAAckGfL0U0TCv/AAAWId2P25PGS1ibk7M+dNrxuquw1fNSpty9XGKGsHAC1U/ugi7Cx5C/6SV8JvlUxP/m1wpHPB6lHzbz2MrStJ5/rXBzwAfj+nbuwyOQdRym1jMrOfDSQpi38GMl7SMlRKlcyDCYvSAZQQAAAFUBn050Qn8AACLYXMANy54hGHqESCNI2LE0h0daD0cjbMzTFv+FeHy9zyGnhFMpACt5ATRM2E2iee8vTMNpXqyVgxIxGcuaPpaoOaVvJq0PRgTqLDZgAAAAXAGfUGpCfwAAIp/KSRChx4my1ekmVcsElSvWUOdxemcfAg+4O6D9jPgIhjRVQ9+whJpm3bhksIXmgg8FeoyZa2oIEBcEUQbIZFKTw14mqG6krDSqfurFRkYkd9yfAAAAdUGbUkmoQWiZTAhv//6MsAAARCXf0ZwBWvJrhX1d+Hk19eeHW6lXeOkPh4dr/GScYZhXUcs8iJN5sESGJ3WYBapYMUV/0AXsBnWD2Qzai/qMQJbjUWC3vDgPHnTRRe5c/9soGFSqKNXB0x5BV0Y3Q+E3VmxrwQAAAPhBm3RJ4QpSZTBREsN//oywAABESc9IW9rADbqyUZHDo9FsCHBFznzt5Pm22BkTM8BvF4h47/OLfdWIPNuqiYXx5X26T1bygwmuPp6x7CFGCeU6imgMQN2yAKDLwPq1VvZfy2hYCZGhw5pYQy6f0acHA3wWbaXHhu3HL+pyJWvd6ilc/jnyB+Ru/bUraC0rJfF6/vZajpmFX603oKFrn24Eo+hy3LcSJcPmQS0AMNR0u8zzUM6LQGkpKb3Jbz3NvXqx68nnO0Bna/4OfPPsPwtOZGJDvCtsDZlmvByaYC+jiZ2YGiaVNCPnaqVAAODeeVy6/K5PnY57QAAAAG8Bn5NqQn8AACO/CtcLtPAFZoWKtlbjrVZQyTxKIrn2994lYdVVb7Kf/g/tqLmd1AtQ5yGMP7stZUdmJueAUZjhDx82DkiMT4Zrn7WyzJd9SojKgbe7v05UOeX/4ypMg6dxS2dH1WYf0JnfEDS71YAAAAC1QZuYSeEOiZTAhv/+jLAAAEZ6bzyCnnhS4VTGAFsYOlEAQSeDgoeR9XFwbTb1GEWRkRnO3hUj/ettyNuedtO2OozYETeIHDspFFJLHbgRcJhJTZX9q3EKRf4qpfnqxECv+7YRgLYHTEumPlUaD6ax2IrC3sIxEKbIPXEGCDk9NedWLbpWYKrFQm1m+JBXDQ2qWAFZB8pGCBIYLRgfuSDEu215rhAv3QHS5vfVT7PHa/cmefU6wwAAADBBn7ZFFTwr/wAAFrThlk871bhvozqF0P2Kl6FgDpuetSal2hU/w+t00BX1a6CL8+AAAAAeAZ/VdEJ/AAAjq/hosh6+IDIuIcDUHoPOPxqk4peRAAAAJAGf12pCfwAAIr2DjQQNWjPXjUR5Q59EjjFGAui6tAIIcfr6KwAAAORBm9xJqEFomUwIb//+jLAAAEYA7mDAG1yYCqocfJLLQzyUiWsy6j1x6DvICucUk0dPyYOkLkq90trvoXO7o4zFvnCn0d9mVdUBxQ/U7waZjWuAPq7Nd2sW4WVN8AnrIOp4HuXVOwQTV5RxF6IsjfgV7oxnIK5qBhp8M2lhfB/Ev7XuBYWyi9c0aOy9uk6B9TtBliKnwR84bMet6RDq28fbI8mlTP+hvuV9rgx2KqFmirzSijO4ACMMoUFvxRcPVrk97kErGcaGI1OE9IqLpgU5NuoacgkSHL94HfIe8YLGUugEJQkAAABSQZ/6RREsK/8AABa8FL6r4qK99XWHzhY7eX9WZy4ndcRHHMRCy1EgQ/r/7+qSeAAWyk48fHN5OHYbOSCA2vwC7hQqOYDy6t7k2VAqFj9tyN/+YQAAADQBnhl0Qn8AACI7fmio6pcO+i05lILttUt29etyCM+m6fpr/6hXKsvCTSPcKMhLdmCWcRPgAAAAOAGeG2pCfwAAI7GUACl28bAWHt8GBxijF0YsI0KVJTzq/oo7+0oAeZZ13M2Lp+wBZyHRlGQG7tE/AAAA1EGaAEmoQWyZTAhv//6MsAAARjH+60N3AFXzIQ10cOJf7NFKuMRYHSRHxxvGyNGsHPU5EsuelR2YWkEhwTjzbhJW3yH/Ncr7qXGN3T8K8MfdtsS2NC0eWewGeP/0DUCg/e9Hx54xoqsJ4ET/LY3mBT9uA5Zj1vmn1xAr4egKtu/FWWsyTNQCMH9K48xldRXCFkPEDTI6JIE7TOZCKqxPT+mNxhORFmFPdXbKkFdkzRNVusmt8+BGhsnJazggg7MWqdgEm5JaXMwGwPsG3tH00pOXhHOhAAAAaEGePkUVLCv/AAAWvmIPfSQBHeH2i2xOH62JAX/b9AZus8O8gSUokCsG2CQ5yZprFA0Ih/mSkG/HjiL0tycHtwML/QcIVB2po/FLwo47xgmFiHjZSZkOP46GNWfVCtfzsK4IIRauwE2gAAAAUQGeXXRCfwAAI8CZH85sPuYbd+gmhuFCs9+vJ+peSLRIRF0u7a0LDICHzA9iAL0Pa9uZ6ACGs9c4gbbb00TuJSH5PNmS/ImTN7RsXCy+zvfG9AAAAFMBnl9qQn8AACPG20T6aYHaGbhdNQb6NtTZ6J2n+OaBV/3+go6v/wFR23YJFW1nX+penqljzA/fj3i4APcn/bMBF+2uF3s+QJG5PsUpkjEfv74ZgQAAAKJBmkRJqEFsmUwIZ//+OEAAAQ2hb35YTNaiTL6W1YALjAIJgrRS9ry9NHvnNt1aes0LW6WEG/m8wiTJ/PBLJfk9C8p+fooEiku5d/kYBKd8HvAikmBupd3g3UQZCYY2ft6ewzbepzvxpPph7v3UHsBuViaIZM+EuWu5xMPEaCJo9viVAFrJ0Ii7AVXWFiiJsKNFgysyZktYRr16hN+EVRqyKoAAAABTQZ5iRRUsK/8AABazR6xCPR3I6Lfm3Tl4n5btNbDuBG3+GatO+6ZkxYvChDT+UuEu0HhbVB4bYTKl5nx11AI+NATvCsNYAJnjWmzf4jLX8VRNGG0AAABJAZ6BdEJ/AAAjuREQAsEGpOpyyg2abFkeLyv/FrDK+ouCZgR6tnGWpP/Zg1RkCrTdLPPk6pIPw2cAcdjIUmKbzQbsyjSGig1UgAAAAEUBnoNqQn8AACKuezkR2SqQ6Zu36c0ZkXmDfjx2GeoXKVIbZJecKExVu2hEZbvn2AEQHmaoJ+z3cBXhQOblXxxOdbidYcEAAABvQZqISahBbJlMCE///IQAAA/d3NvbnLBAr6Ws1CCdwoO+RYmT5Mn40LVIVNV2qDJuZzsrbCvs+7grYALn0iZyuna7hPw5ehRNaP60TnVxFO9iljY6VPbnZlXzRqFtvoMHXuLVtrdtM6g6foeAmFzhAAAARkGepkUVLCv/AAAWrS739ctwsZt6X2iMKq8lgwmpBHcAc2yyV9Dfm31zDQip7pGYAMxaH5W2A3yBR2XqksxY9V151PMyuFUAAAA3AZ7FdEJ/AAAjwJoX4fbFryeUeARv+A12ULbnYAmot8X092T+SfKnTP7UP1kYJGww+570TUbhUQAAAE8BnsdqQn8AACM32wiIARiU2jX+RqZfCbsdNcDgfDa6wHCo5gGzC3bq9vTPCh59dRpHpTUZCgcu9l3ApNJHugaaTAXPsrLhZlXS6g9jwapAAAAH/W1vb3YAAABsbXZoZAAAAAAAAAAAAAAAAAAAA+gAAA2sAAEAAAEAAAAAAAAAAAAAAAABAAAAAAAAAAAAAAAAAAAAAQAAAAAAAAAAAAAAAAAAQAAAAAAAAAAAAAAAAAAAAAAAAAAAAAAAAAAAAAAAAAIAAAcndHJhawAAAFx0a2hkAAAAAwAAAAAAAAAAAAAAAQAAAAAAAA2sAAAAAAAAAAAAAAAAAAAAAAABAAAAAAAAAAAAAAAAAAAAAQAAAAAAAAAAAAAAAAAAQAAAAAJgAAABkAAAAAAAJGVkdHMAAAAcZWxzdAAAAAAAAAABAAANrAAABAAAAQAAAAAGn21kaWEAAAAgbWRoZAAAAAAAAAAAAAAAAAAAPAAAANIAVcQAAAAAAC1oZGxyAAAAAAAAAAB2aWRlAAAAAAAAAAAAAAAAVmlkZW9IYW5kbGVyAAAABkptaW5mAAAAFHZtaGQAAAABAAAAAAAAAAAAAAAkZGluZgAAABxkcmVmAAAAAAAAAAEAAAAMdXJsIAAAAAEAAAYKc3RibAAAAJZzdHNkAAAAAAAAAAEAAACGYXZjMQAAAAAAAAABAAAAAAAAAAAAAAAAAAAAAAJgAZAASAAAAEgAAAAAAAAAAQAAAAAAAAAAAAAAAAAAAAAAAAAAAAAAAAAAAAAAAAAAABj//wAAADBhdmNDAWQAHv/hABhnZAAerNlAmDOhAAADAAEAAAMAPA8WLZYBAAVo6+csiwAAABhzdHRzAAAAAAAAAAEAAABpAAACAAAAABRzdHNzAAAAAAAAAAEAAAABAAADWGN0dHMAAAAAAAAAaQAAAAEAAAQAAAAAAQAABgAAAAABAAACAAAAAAEAAAoAAAAAAQAABAAAAAABAAAAAAAAAAEAAAIAAAAAAQAACgAAAAABAAAEAAAAAAEAAAAAAAAAAQAAAgAAAAABAAAKAAAAAAEAAAQAAAAAAQAAAAAAAAABAAACAAAAAAEAAAoAAAAAAQAABAAAAAABAAAAAAAAAAEAAAIAAAAAAQAACgAAAAABAAAEAAAAAAEAAAAAAAAAAQAAAgAAAAABAAAKAAAAAAEAAAQAAAAAAQAAAAAAAAABAAACAAAAAAEAAAoAAAAAAQAABAAAAAABAAAAAAAAAAEAAAIAAAAAAQAACgAAAAABAAAEAAAAAAEAAAAAAAAAAQAAAgAAAAABAAAKAAAAAAEAAAQAAAAAAQAAAAAAAAABAAACAAAAAAEAAAoAAAAAAQAABAAAAAABAAAAAAAAAAEAAAIAAAAAAQAACgAAAAABAAAEAAAAAAEAAAAAAAAAAQAAAgAAAAABAAAKAAAAAAEAAAQAAAAAAQAAAAAAAAABAAACAAAAAAEAAAoAAAAAAQAABAAAAAABAAAAAAAAAAEAAAIAAAAAAQAACgAAAAABAAAEAAAAAAEAAAAAAAAAAQAAAgAAAAABAAAGAAAAAAEAAAIAAAAAAQAACgAAAAABAAAEAAAAAAEAAAAAAAAAAQAAAgAAAAABAAAKAAAAAAEAAAQAAAAAAQAAAAAAAAABAAACAAAAAAEAAAoAAAAAAQAABAAAAAABAAAAAAAAAAEAAAIAAAAAAQAACgAAAAABAAAEAAAAAAEAAAAAAAAAAQAAAgAAAAABAAAEAAAAAAEAAAoAAAAAAQAABAAAAAABAAAAAAAAAAEAAAIAAAAAAQAABAAAAAABAAAGAAAAAAEAAAIAAAAAAQAACgAAAAABAAAEAAAAAAEAAAAAAAAAAQAAAgAAAAABAAAKAAAAAAEAAAQAAAAAAQAAAAAAAAABAAACAAAAAAEAAAoAAAAAAQAABAAAAAABAAAAAAAAAAEAAAIAAAAAAQAACgAAAAABAAAEAAAAAAEAAAAAAAAAAQAAAgAAAAABAAAKAAAAAAEAAAQAAAAAAQAAAAAAAAABAAACAAAAABxzdHNjAAAAAAAAAAEAAAABAAAAaQAAAAEAAAG4c3RzegAAAAAAAAAAAAAAaQAABK4AAADGAAAALwAAAJ8AAABAAAAAMwAAACIAAABmAAAANAAAACgAAAApAAAAagAAADgAAAApAAAANAAAAFoAAAA3AAAAMwAAACkAAAC/AAAAPgAAADgAAAAnAAAAwgAAAEEAAABGAAAAKAAAAPoAAABwAAAARAAAAEYAAADjAAAAiAAAAEwAAABJAAAA0AAAAJgAAABJAAAAagAAAGoAAAA2AAAAIgAAADAAAADHAAAAPQAAAC0AAAAxAAAA+wAAAGYAAABUAAAAVQAAAK8AAACwAAAAZgAAAF8AAABVAAAANwAAACEAAAAuAAAAhwAAACcAAADXAAAASwAAADcAAABUAAAA3wAAAHsAAABUAAAAWgAAAQQAAAClAAAAVQAAADAAAADCAAAAXAAAAEUAAABEAAAAegAAAQEAAAB2AAAAWQAAAGAAAAB5AAAA/AAAAHMAAAC5AAAANAAAACIAAAAoAAAA6AAAAFYAAAA4AAAAPAAAANgAAABsAAAAVQAAAFcAAACmAAAAVwAAAE0AAABJAAAAcwAAAEoAAAA7AAAAUwAAABRzdGNvAAAAAAAAAAEAAAAwAAAAYnVkdGEAAABabWV0YQAAAAAAAAAhaGRscgAAAAAAAAAAbWRpcmFwcGwAAAAAAAAAAAAAAAAtaWxzdAAAACWpdG9vAAAAHWRhdGEAAAABAAAAAExhdmY1Ny44My4xMDA=\" type = \"video/mp4\">\n",
              "            Your browser does not support the video tag.\n",
              "        </video>"
            ],
            "text/plain": [
              "<IPython.core.display.HTML object>"
            ]
          },
          "metadata": {
            "tags": []
          },
          "execution_count": 51
        }
      ]
    },
    {
      "cell_type": "markdown",
      "metadata": {
        "id": "QvHhk-IXy8w0",
        "colab_type": "text"
      },
      "source": [
        "## Salvar a política após o treinamento"
      ]
    },
    {
      "cell_type": "code",
      "metadata": {
        "id": "okm1bSxttUds",
        "colab_type": "code",
        "outputId": "650d9f4f-407e-495a-9500-fbf4f2d29c81",
        "colab": {
          "base_uri": "https://localhost:8080/",
          "height": 71
        }
      },
      "source": [
        " saved_policy_path = '/content/drive/My Drive/'\n",
        " PolicySaver(eval_policy).save(saved_policy_path + 'cartpole_policy')"
      ],
      "execution_count": 0,
      "outputs": [
        {
          "output_type": "stream",
          "text": [
            "INFO:tensorflow:Assets written to: /content/drive/My Drive/cartpole_policy/assets\n"
          ],
          "name": "stdout"
        },
        {
          "output_type": "stream",
          "text": [
            "INFO:tensorflow:Assets written to: /content/drive/My Drive/cartpole_policy/assets\n"
          ],
          "name": "stderr"
        }
      ]
    },
    {
      "cell_type": "markdown",
      "metadata": {
        "id": "mQ0lRCL7zHZL",
        "colab_type": "text"
      },
      "source": [
        "## Carregar a política treinada"
      ]
    },
    {
      "cell_type": "code",
      "metadata": {
        "id": "DFegPzocvv8J",
        "colab_type": "code",
        "outputId": "f9fee850-28f4-49aa-9476-8b1b7be06f6b",
        "colab": {
          "base_uri": "https://localhost:8080/",
          "height": 54
        }
      },
      "source": [
        "policy = tf.saved_model.load(saved_policy_path + 'cartpole_policy')\n",
        "policy"
      ],
      "execution_count": 0,
      "outputs": [
        {
          "output_type": "execute_result",
          "data": {
            "text/plain": [
              "<tensorflow.python.saved_model.load.Loader._recreate_base_user_object.<locals>._UserObject at 0x7fb6f6f51c18>"
            ]
          },
          "metadata": {
            "tags": []
          },
          "execution_count": 68
        }
      ]
    },
    {
      "cell_type": "markdown",
      "metadata": {
        "id": "sDGEBdZ0zK25",
        "colab_type": "text"
      },
      "source": [
        "## Visualizar em vídeo o agente seguindo política carregada"
      ]
    },
    {
      "cell_type": "code",
      "metadata": {
        "id": "0NN6sx-Myzf0",
        "colab_type": "code",
        "outputId": "da9e5a95-923e-4efe-8ed2-1148c5fddeb9",
        "colab": {
          "base_uri": "https://localhost:8080/",
          "height": 538
        }
      },
      "source": [
        "create_policy_eval_video(policy, \"loaded_policy\")"
      ],
      "execution_count": 0,
      "outputs": [
        {
          "output_type": "stream",
          "text": [
            "WARNING:root:IMAGEIO FFMPEG_WRITER WARNING: input image is not divisible by macro_block_size=16, resizing from (400, 600) to (400, 608) to ensure video compatibility with most codecs and players. To prevent resizing, make your input image divisible by the macro_block_size or set the macro_block_size to None (risking incompatibility). You may also see a FFMPEG warning concerning speedloss due to data not being aligned.\n"
          ],
          "name": "stderr"
        },
        {
          "output_type": "execute_result",
          "data": {
            "text/html": [
              "<video width = \"640\" height = \"480\" controls>\n",
              "            <source src = \"data:video/mp4;base64,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\" type = \"video/mp4\">\n",
              "            Your browser does not support the video tag.\n",
              "        </video>"
            ],
            "text/plain": [
              "<IPython.core.display.HTML object>"
            ]
          },
          "metadata": {
            "tags": []
          },
          "execution_count": 69
        }
      ]
    }
  ]
}